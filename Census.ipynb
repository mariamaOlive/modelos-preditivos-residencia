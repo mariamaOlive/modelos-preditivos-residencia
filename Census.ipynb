{
 "cells": [
  {
   "cell_type": "markdown",
   "metadata": {},
   "source": [
    "# Projeto Final - Modelos Preditivos - Dataset do Censo\n",
    "\n",
    "## Grupo:\n",
    "- Lucas Natan Correia Couri - lncc2@cin.ufpe.br\n",
    "- Mariama Celi Serafim de Oliveira - mcso@cin.ufpe.br\n",
    "- Laianna Lana Virginio da Silva - llvs2@cin.ufpe.br\n",
    "- Priscilla Amarante de Lima - pal4@cin.ufpe.br\n",
    "- Liviany Reis Rodrigues - lrr@cin.ufpe.br"
   ]
  },
  {
   "cell_type": "markdown",
   "metadata": {},
   "source": [
    "# Bibliotecas"
   ]
  },
  {
   "cell_type": "code",
   "execution_count": 1,
   "metadata": {},
   "outputs": [],
   "source": [
    "import pandas as pd\n",
    "import numpy as np\n",
    "import matplotlib.pyplot as plt\n",
    "import seaborn as sns\n",
    "\n",
    "from scipy import stats\n",
    "from scipy.stats import kruskal\n",
    "\n",
    "from sklearn import preprocessing\n",
    "from sklearn import model_selection\n",
    "from sklearn import tree\n",
    "\n",
    "from sklearn.model_selection import RepeatedStratifiedKFold\n",
    "from sklearn.model_selection import RandomizedSearchCV\n",
    "from sklearn.model_selection import GridSearchCV\n",
    "\n",
    "from sklearn.metrics import classification_report\n",
    "from sklearn.metrics import confusion_matrix\n",
    "from sklearn.metrics import accuracy_score, precision_score, f1_score\n",
    "\n",
    "from sklearn.ensemble import RandomForestClassifier\n",
    "from sklearn.ensemble import BaggingClassifier\n",
    "from sklearn.ensemble import VotingClassifier\n",
    "from sklearn.tree import DecisionTreeClassifier\n",
    "from sklearn.neural_network import MLPClassifier\n",
    "from sklearn.neighbors import KNeighborsClassifier\n",
    "from sklearn.preprocessing import MinMaxScaler\n",
    "from sklearn.decomposition import PCA\n",
    "\n",
    "from numpy.random import randn\n",
    "from numpy.random import seed\n",
    "\n",
    "from warnings import filterwarnings\n",
    "filterwarnings('ignore')"
   ]
  },
  {
   "cell_type": "code",
   "execution_count": 2,
   "metadata": {},
   "outputs": [],
   "source": [
    "#Determinação da SEED utilizada no projeto\n",
    "SEED = 6138"
   ]
  },
  {
   "cell_type": "markdown",
   "metadata": {},
   "source": [
    "# 1. Entendimento do Negócio"
   ]
  },
  {
   "cell_type": "markdown",
   "metadata": {},
   "source": [
    "O objetivo do problema é determinar se uma pessoa ganha mais ou menos de 50 mil dólares. Serão utilizadas as informações do censo americano (14 features) a fim de gerar os modelos."
   ]
  },
  {
   "cell_type": "markdown",
   "metadata": {},
   "source": [
    "# 2. Compreensão dos Dados"
   ]
  },
  {
   "cell_type": "markdown",
   "metadata": {},
   "source": [
    "*   Descrição da base: https://archive.ics.uci.edu/ml/datasets/census+income\n",
    "\n",
    "Número de Instâncias:\n",
    "* Dados de Treino: 32561\n",
    "* Dados de Teste: 16281\n",
    "\n",
    "Valores Ausentes:\n",
    "* Foram substituídos por \" ?\"\n",
    "\n",
    "Número de Atributos: 14\n",
    "* age: continuous.\n",
    "* workclass: Private, Self-emp-not-inc, Self-emp-inc, Federal-gov, Local-gov, State-gov, Without-pay, Never-worked.\n",
    "* fnlwgt: continuous.\n",
    "* education: Bachelors, Some-college, 11th, HS-grad, Prof-school, Assoc-acdm, Assoc-voc, 9th, 7th-8th, 12th, Masters, 1st-4th, 10th, Doctorate, 5th-6th, Preschool.\n",
    "* education-num: continuous.\n",
    "* marital-status: Married-civ-spouse, Divorced, Never-married, Separated, Widowed, Married-spouse-absent, Married-AF-spouse.\n",
    "* occupation: Tech-support, Craft-repair, Other-service, Sales, Exec-managerial, Prof-specialty, Handlers-cleaners, Machine-op-inspct, Adm-clerical, Farming-fishing, Transport-moving, Priv-house-serv, Protective-serv, Armed-Forces.\n",
    "* relationship: Wife, Own-child, Husband, Not-in-family, Other-relative, Unmarried.\n",
    "* race: White, Asian-Pac-Islander, Amer-Indian-Eskimo, Other, Black.\n",
    "* sex: Female, Male.\n",
    "* capital-gain: continuous.\n",
    "* capital-loss: continuous.\n",
    "* hours-per-week: continuous.\n",
    "* native-country: United-States, Cambodia, England, Puerto-Rico, Canada, Germany, Outlying-US(Guam-USVI-etc), India, Japan, Greece, South, China, Cuba, Iran, Honduras, Philippines, Italy, Poland, Jamaica, Vietnam, Mexico, Portugal, Ireland, France, Dominican-Republic, Laos, Ecuador, Taiwan, Haiti, Columbia, Hungary, Guatemala, Nicaragua, Scotland, Thailand, Yugoslavia, El-Salvador, Trinadad&Tobago, Peru, Hong, Holand-Netherlands.\n",
    "\n",
    "Distribuição da Classe:\n",
    "* '>50K' , '<=50K'.\n",
    "    *   '<=50K' : 76.07% / 75.22% (sem as linhas ' ?')\n",
    "    *   '>50K'  : 23.93% / 24.78% (sem as linhas ' ?')"
   ]
  },
  {
   "cell_type": "markdown",
   "metadata": {},
   "source": [
    "# 3. Preparação dos Dados"
   ]
  },
  {
   "cell_type": "markdown",
   "metadata": {},
   "source": [
    "## Carregando a Base de Dados"
   ]
  },
  {
   "cell_type": "code",
   "execution_count": 3,
   "metadata": {},
   "outputs": [
    {
     "data": {
      "text/html": [
       "<div>\n",
       "<style scoped>\n",
       "    .dataframe tbody tr th:only-of-type {\n",
       "        vertical-align: middle;\n",
       "    }\n",
       "\n",
       "    .dataframe tbody tr th {\n",
       "        vertical-align: top;\n",
       "    }\n",
       "\n",
       "    .dataframe thead th {\n",
       "        text-align: right;\n",
       "    }\n",
       "</style>\n",
       "<table border=\"1\" class=\"dataframe\">\n",
       "  <thead>\n",
       "    <tr style=\"text-align: right;\">\n",
       "      <th></th>\n",
       "      <th>age</th>\n",
       "      <th>workclass</th>\n",
       "      <th>fnlwgt</th>\n",
       "      <th>education</th>\n",
       "      <th>education-num</th>\n",
       "      <th>marital-status</th>\n",
       "      <th>occupation</th>\n",
       "      <th>relationship</th>\n",
       "      <th>race</th>\n",
       "      <th>sex</th>\n",
       "      <th>capital-gain</th>\n",
       "      <th>capital-loss</th>\n",
       "      <th>hours-per-week</th>\n",
       "      <th>native-country</th>\n",
       "      <th>class</th>\n",
       "    </tr>\n",
       "  </thead>\n",
       "  <tbody>\n",
       "    <tr>\n",
       "      <th>0</th>\n",
       "      <td>39</td>\n",
       "      <td>State-gov</td>\n",
       "      <td>77516</td>\n",
       "      <td>Bachelors</td>\n",
       "      <td>13</td>\n",
       "      <td>Never-married</td>\n",
       "      <td>Adm-clerical</td>\n",
       "      <td>Not-in-family</td>\n",
       "      <td>White</td>\n",
       "      <td>Male</td>\n",
       "      <td>2174</td>\n",
       "      <td>0</td>\n",
       "      <td>40</td>\n",
       "      <td>United-States</td>\n",
       "      <td>&lt;=50K</td>\n",
       "    </tr>\n",
       "  </tbody>\n",
       "</table>\n",
       "</div>"
      ],
      "text/plain": [
       "   age   workclass  fnlwgt   education  education-num  marital-status  \\\n",
       "0   39   State-gov   77516   Bachelors             13   Never-married   \n",
       "\n",
       "      occupation    relationship    race    sex  capital-gain  capital-loss  \\\n",
       "0   Adm-clerical   Not-in-family   White   Male          2174             0   \n",
       "\n",
       "   hours-per-week  native-country   class  \n",
       "0              40   United-States   <=50K  "
      ]
     },
     "execution_count": 3,
     "metadata": {},
     "output_type": "execute_result"
    }
   ],
   "source": [
    "columns_name = ['age', 'workclass', 'fnlwgt', 'education', 'education-num', 'marital-status', 'occupation', 'relationship', 'race', 'sex', 'capital-gain', 'capital-loss', 'hours-per-week', 'native-country', 'class']\n",
    "df = pd.read_csv(\"Dados/adult.data\", names = columns_name, index_col = False)\n",
    "df.head(1)"
   ]
  },
  {
   "cell_type": "markdown",
   "metadata": {},
   "source": [
    "## Análise Exploratória de Dados"
   ]
  },
  {
   "cell_type": "markdown",
   "metadata": {},
   "source": [
    "Nesta seção, serão analisados a distribuição e característica dos atributos, valores faltantes, possíveis outliers e nível de separatibilidade. "
   ]
  },
  {
   "cell_type": "markdown",
   "metadata": {},
   "source": [
    "### Tipos dos dados"
   ]
  },
  {
   "cell_type": "code",
   "execution_count": 4,
   "metadata": {},
   "outputs": [
    {
     "data": {
      "text/plain": [
       "age                int64\n",
       "workclass         object\n",
       "fnlwgt             int64\n",
       "education         object\n",
       "education-num      int64\n",
       "marital-status    object\n",
       "occupation        object\n",
       "relationship      object\n",
       "race              object\n",
       "sex               object\n",
       "capital-gain       int64\n",
       "capital-loss       int64\n",
       "hours-per-week     int64\n",
       "native-country    object\n",
       "class             object\n",
       "dtype: object"
      ]
     },
     "execution_count": 4,
     "metadata": {},
     "output_type": "execute_result"
    }
   ],
   "source": [
    "df.dtypes"
   ]
  },
  {
   "cell_type": "markdown",
   "metadata": {},
   "source": [
    "Mudando os atributos para seus tipos corretos."
   ]
  },
  {
   "cell_type": "code",
   "execution_count": 5,
   "metadata": {},
   "outputs": [
    {
     "data": {
      "text/plain": [
       "age                  int64\n",
       "workclass         category\n",
       "fnlwgt               int64\n",
       "education         category\n",
       "education-num        int64\n",
       "marital-status    category\n",
       "occupation        category\n",
       "relationship      category\n",
       "race              category\n",
       "sex               category\n",
       "capital-gain         int64\n",
       "capital-loss         int64\n",
       "hours-per-week       int64\n",
       "native-country    category\n",
       "class             category\n",
       "dtype: object"
      ]
     },
     "execution_count": 5,
     "metadata": {},
     "output_type": "execute_result"
    }
   ],
   "source": [
    "df['workclass'] = df['workclass'].astype('category')\n",
    "df['education'] = df['education'].astype('category')\n",
    "df['marital-status'] = df['marital-status'].astype('category')\n",
    "df['occupation'] = df['occupation'].astype('category')\n",
    "df['relationship'] = df['relationship'].astype('category')\n",
    "df['race'] = df['race'].astype('category')\n",
    "df['sex'] = df['sex'].astype('category')\n",
    "df['native-country'] = df['native-country'].astype('category')\n",
    "df['class'] = df['class'].astype('category')\n",
    "df.dtypes"
   ]
  },
  {
   "cell_type": "markdown",
   "metadata": {},
   "source": [
    "### Descrição dos dados"
   ]
  },
  {
   "cell_type": "markdown",
   "metadata": {},
   "source": [
    "Sumário dos dados contínuos."
   ]
  },
  {
   "cell_type": "code",
   "execution_count": 6,
   "metadata": {},
   "outputs": [
    {
     "data": {
      "text/html": [
       "<div>\n",
       "<style scoped>\n",
       "    .dataframe tbody tr th:only-of-type {\n",
       "        vertical-align: middle;\n",
       "    }\n",
       "\n",
       "    .dataframe tbody tr th {\n",
       "        vertical-align: top;\n",
       "    }\n",
       "\n",
       "    .dataframe thead th {\n",
       "        text-align: right;\n",
       "    }\n",
       "</style>\n",
       "<table border=\"1\" class=\"dataframe\">\n",
       "  <thead>\n",
       "    <tr style=\"text-align: right;\">\n",
       "      <th></th>\n",
       "      <th>age</th>\n",
       "      <th>fnlwgt</th>\n",
       "      <th>education-num</th>\n",
       "      <th>capital-gain</th>\n",
       "      <th>capital-loss</th>\n",
       "      <th>hours-per-week</th>\n",
       "    </tr>\n",
       "  </thead>\n",
       "  <tbody>\n",
       "    <tr>\n",
       "      <th>count</th>\n",
       "      <td>32561.000000</td>\n",
       "      <td>3.256100e+04</td>\n",
       "      <td>32561.000000</td>\n",
       "      <td>32561.000000</td>\n",
       "      <td>32561.000000</td>\n",
       "      <td>32561.000000</td>\n",
       "    </tr>\n",
       "    <tr>\n",
       "      <th>mean</th>\n",
       "      <td>38.581647</td>\n",
       "      <td>1.897784e+05</td>\n",
       "      <td>10.080679</td>\n",
       "      <td>1077.648844</td>\n",
       "      <td>87.303830</td>\n",
       "      <td>40.437456</td>\n",
       "    </tr>\n",
       "    <tr>\n",
       "      <th>std</th>\n",
       "      <td>13.640433</td>\n",
       "      <td>1.055500e+05</td>\n",
       "      <td>2.572720</td>\n",
       "      <td>7385.292085</td>\n",
       "      <td>402.960219</td>\n",
       "      <td>12.347429</td>\n",
       "    </tr>\n",
       "    <tr>\n",
       "      <th>min</th>\n",
       "      <td>17.000000</td>\n",
       "      <td>1.228500e+04</td>\n",
       "      <td>1.000000</td>\n",
       "      <td>0.000000</td>\n",
       "      <td>0.000000</td>\n",
       "      <td>1.000000</td>\n",
       "    </tr>\n",
       "    <tr>\n",
       "      <th>25%</th>\n",
       "      <td>28.000000</td>\n",
       "      <td>1.178270e+05</td>\n",
       "      <td>9.000000</td>\n",
       "      <td>0.000000</td>\n",
       "      <td>0.000000</td>\n",
       "      <td>40.000000</td>\n",
       "    </tr>\n",
       "    <tr>\n",
       "      <th>50%</th>\n",
       "      <td>37.000000</td>\n",
       "      <td>1.783560e+05</td>\n",
       "      <td>10.000000</td>\n",
       "      <td>0.000000</td>\n",
       "      <td>0.000000</td>\n",
       "      <td>40.000000</td>\n",
       "    </tr>\n",
       "    <tr>\n",
       "      <th>75%</th>\n",
       "      <td>48.000000</td>\n",
       "      <td>2.370510e+05</td>\n",
       "      <td>12.000000</td>\n",
       "      <td>0.000000</td>\n",
       "      <td>0.000000</td>\n",
       "      <td>45.000000</td>\n",
       "    </tr>\n",
       "    <tr>\n",
       "      <th>max</th>\n",
       "      <td>90.000000</td>\n",
       "      <td>1.484705e+06</td>\n",
       "      <td>16.000000</td>\n",
       "      <td>99999.000000</td>\n",
       "      <td>4356.000000</td>\n",
       "      <td>99.000000</td>\n",
       "    </tr>\n",
       "  </tbody>\n",
       "</table>\n",
       "</div>"
      ],
      "text/plain": [
       "                age        fnlwgt  education-num  capital-gain  capital-loss  \\\n",
       "count  32561.000000  3.256100e+04   32561.000000  32561.000000  32561.000000   \n",
       "mean      38.581647  1.897784e+05      10.080679   1077.648844     87.303830   \n",
       "std       13.640433  1.055500e+05       2.572720   7385.292085    402.960219   \n",
       "min       17.000000  1.228500e+04       1.000000      0.000000      0.000000   \n",
       "25%       28.000000  1.178270e+05       9.000000      0.000000      0.000000   \n",
       "50%       37.000000  1.783560e+05      10.000000      0.000000      0.000000   \n",
       "75%       48.000000  2.370510e+05      12.000000      0.000000      0.000000   \n",
       "max       90.000000  1.484705e+06      16.000000  99999.000000   4356.000000   \n",
       "\n",
       "       hours-per-week  \n",
       "count    32561.000000  \n",
       "mean        40.437456  \n",
       "std         12.347429  \n",
       "min          1.000000  \n",
       "25%         40.000000  \n",
       "50%         40.000000  \n",
       "75%         45.000000  \n",
       "max         99.000000  "
      ]
     },
     "execution_count": 6,
     "metadata": {},
     "output_type": "execute_result"
    }
   ],
   "source": [
    "df.describe()"
   ]
  },
  {
   "cell_type": "markdown",
   "metadata": {},
   "source": [
    "### Dados Duplicados"
   ]
  },
  {
   "cell_type": "markdown",
   "metadata": {},
   "source": [
    "Checando dados duplicados. Ao final, verificamos que não há linhas duplicadas."
   ]
  },
  {
   "cell_type": "code",
   "execution_count": 7,
   "metadata": {},
   "outputs": [],
   "source": [
    "df.drop_duplicates(inplace = True)"
   ]
  },
  {
   "cell_type": "code",
   "execution_count": 8,
   "metadata": {},
   "outputs": [
    {
     "data": {
      "text/html": [
       "<div>\n",
       "<style scoped>\n",
       "    .dataframe tbody tr th:only-of-type {\n",
       "        vertical-align: middle;\n",
       "    }\n",
       "\n",
       "    .dataframe tbody tr th {\n",
       "        vertical-align: top;\n",
       "    }\n",
       "\n",
       "    .dataframe thead th {\n",
       "        text-align: right;\n",
       "    }\n",
       "</style>\n",
       "<table border=\"1\" class=\"dataframe\">\n",
       "  <thead>\n",
       "    <tr style=\"text-align: right;\">\n",
       "      <th></th>\n",
       "      <th>age</th>\n",
       "      <th>workclass</th>\n",
       "      <th>fnlwgt</th>\n",
       "      <th>education</th>\n",
       "      <th>education-num</th>\n",
       "      <th>marital-status</th>\n",
       "      <th>occupation</th>\n",
       "      <th>relationship</th>\n",
       "      <th>race</th>\n",
       "      <th>sex</th>\n",
       "      <th>capital-gain</th>\n",
       "      <th>capital-loss</th>\n",
       "      <th>hours-per-week</th>\n",
       "      <th>native-country</th>\n",
       "      <th>class</th>\n",
       "    </tr>\n",
       "  </thead>\n",
       "  <tbody>\n",
       "  </tbody>\n",
       "</table>\n",
       "</div>"
      ],
      "text/plain": [
       "Empty DataFrame\n",
       "Columns: [age, workclass, fnlwgt, education, education-num, marital-status, occupation, relationship, race, sex, capital-gain, capital-loss, hours-per-week, native-country, class]\n",
       "Index: []"
      ]
     },
     "execution_count": 8,
     "metadata": {},
     "output_type": "execute_result"
    }
   ],
   "source": [
    "df[df.duplicated()]"
   ]
  },
  {
   "cell_type": "markdown",
   "metadata": {},
   "source": [
    "### Preenchendo Dados Faltantes"
   ]
  },
  {
   "cell_type": "code",
   "execution_count": 9,
   "metadata": {},
   "outputs": [],
   "source": [
    "def tratamento_faltantes(df, columns_name):\n",
    "    ## Printa os atributos com dados faltantes (\" ?\")\n",
    "    for coluna in columns_name:\n",
    "        if len(df[df[coluna] == \" ?\"]) > 0:\n",
    "            print(coluna)\n",
    "            print(len(df[df[coluna] == \" ?\"]))\n",
    "    \n",
    "    ## Tratamento dos dados faltantes:\n",
    "    atr_faltantes = [\"workclass\", \"occupation\", \"native-country\"]\n",
    "    for atr in atr_faltantes:\n",
    "        categorias_atr = df.groupby(atr).sum().index.tolist()\n",
    "        label_encoder = preprocessing.LabelEncoder()\n",
    "        label_encoder.fit(categorias_atr)\n",
    "        df[atr] = df[atr].replace(\" ?\", np.nan)\n",
    "        df[atr] = df[atr].interpolate(method = 'pad')"
   ]
  },
  {
   "cell_type": "markdown",
   "metadata": {},
   "source": [
    "Tratamento dos dados faltantes: \n",
    "1. Transforma para numérico (LabelEnconder) \n",
    "2. Substitui \" ?\" por NaN (replace)\n",
    "3. Utiliza a frequência dos vizinhos mais próximos para estimar um valor para NaN (interpolate)"
   ]
  },
  {
   "cell_type": "code",
   "execution_count": 10,
   "metadata": {},
   "outputs": [
    {
     "name": "stdout",
     "output_type": "stream",
     "text": [
      "workclass\n",
      "1836\n",
      "occupation\n",
      "1843\n",
      "native-country\n",
      "582\n"
     ]
    }
   ],
   "source": [
    "tratamento_faltantes(df, columns_name)"
   ]
  },
  {
   "cell_type": "markdown",
   "metadata": {},
   "source": [
    "### Checando Outliers"
   ]
  },
  {
   "cell_type": "code",
   "execution_count": 11,
   "metadata": {},
   "outputs": [
    {
     "data": {
      "text/plain": [
       "<AxesSubplot:>"
      ]
     },
     "execution_count": 11,
     "metadata": {},
     "output_type": "execute_result"
    },
    {
     "data": {
      "image/png": "[encoded data removed]",
      "text/plain": [
       "<Figure size 432x288 with 1 Axes>"
      ]
     },
     "metadata": {
      "needs_background": "light"
     },
     "output_type": "display_data"
    }
   ],
   "source": [
    "df['hours-per-week'].plot.box()"
   ]
  },
  {
   "cell_type": "code",
   "execution_count": 12,
   "metadata": {},
   "outputs": [
    {
     "data": {
      "text/plain": [
       "<AxesSubplot:>"
      ]
     },
     "execution_count": 12,
     "metadata": {},
     "output_type": "execute_result"
    },
    {
     "data": {
      "image/png": "[encoded data removed]",
      "text/plain": [
       "<Figure size 432x288 with 1 Axes>"
      ]
     },
     "metadata": {
      "needs_background": "light"
     },
     "output_type": "display_data"
    }
   ],
   "source": [
    "df['hours-per-week'].hist()"
   ]
  },
  {
   "cell_type": "code",
   "execution_count": 13,
   "metadata": {},
   "outputs": [
    {
     "data": {
      "text/plain": [
       "<AxesSubplot:>"
      ]
     },
     "execution_count": 13,
     "metadata": {},
     "output_type": "execute_result"
    },
    {
     "data": {
      "image/png": "[encoded data removed]",
      "text/plain": [
       "<Figure size 432x288 with 1 Axes>"
      ]
     },
     "metadata": {
      "needs_background": "light"
     },
     "output_type": "display_data"
    }
   ],
   "source": [
    "df['capital-gain'].plot.box()"
   ]
  },
  {
   "cell_type": "code",
   "execution_count": 14,
   "metadata": {},
   "outputs": [
    {
     "data": {
      "text/plain": [
       "<AxesSubplot:>"
      ]
     },
     "execution_count": 14,
     "metadata": {},
     "output_type": "execute_result"
    },
    {
     "data": {
      "image/png": "[encoded data removed]",
      "text/plain": [
       "<Figure size 432x288 with 1 Axes>"
      ]
     },
     "metadata": {
      "needs_background": "light"
     },
     "output_type": "display_data"
    }
   ],
   "source": [
    "df['capital-gain'].hist()"
   ]
  },
  {
   "cell_type": "code",
   "execution_count": 15,
   "metadata": {},
   "outputs": [
    {
     "data": {
      "text/plain": [
       "<AxesSubplot:>"
      ]
     },
     "execution_count": 15,
     "metadata": {},
     "output_type": "execute_result"
    },
    {
     "data": {
      "image/png": "[encoded data removed]",
      "text/plain": [
       "<Figure size 432x288 with 1 Axes>"
      ]
     },
     "metadata": {
      "needs_background": "light"
     },
     "output_type": "display_data"
    }
   ],
   "source": [
    "df['capital-loss'].plot.box()"
   ]
  },
  {
   "cell_type": "code",
   "execution_count": 16,
   "metadata": {},
   "outputs": [
    {
     "data": {
      "text/plain": [
       "<AxesSubplot:>"
      ]
     },
     "execution_count": 16,
     "metadata": {},
     "output_type": "execute_result"
    },
    {
     "data": {
      "image/png": "[encoded data removed]",
      "text/plain": [
       "<Figure size 432x288 with 1 Axes>"
      ]
     },
     "metadata": {
      "needs_background": "light"
     },
     "output_type": "display_data"
    }
   ],
   "source": [
    "df['capital-loss'].hist()"
   ]
  },
  {
   "cell_type": "markdown",
   "metadata": {},
   "source": [
    "### Colunas Redundantes"
   ]
  },
  {
   "cell_type": "code",
   "execution_count": 17,
   "metadata": {},
   "outputs": [
    {
     "data": {
      "text/html": [
       "<div>\n",
       "<style scoped>\n",
       "    .dataframe tbody tr th:only-of-type {\n",
       "        vertical-align: middle;\n",
       "    }\n",
       "\n",
       "    .dataframe tbody tr th {\n",
       "        vertical-align: top;\n",
       "    }\n",
       "\n",
       "    .dataframe thead th {\n",
       "        text-align: right;\n",
       "    }\n",
       "</style>\n",
       "<table border=\"1\" class=\"dataframe\">\n",
       "  <thead>\n",
       "    <tr style=\"text-align: right;\">\n",
       "      <th></th>\n",
       "      <th>age</th>\n",
       "      <th>workclass</th>\n",
       "      <th>fnlwgt</th>\n",
       "      <th>education</th>\n",
       "      <th>education-num</th>\n",
       "      <th>marital-status</th>\n",
       "      <th>occupation</th>\n",
       "      <th>relationship</th>\n",
       "      <th>race</th>\n",
       "      <th>sex</th>\n",
       "      <th>capital-gain</th>\n",
       "      <th>capital-loss</th>\n",
       "      <th>hours-per-week</th>\n",
       "      <th>native-country</th>\n",
       "      <th>class</th>\n",
       "    </tr>\n",
       "  </thead>\n",
       "  <tbody>\n",
       "    <tr>\n",
       "      <th>0</th>\n",
       "      <td>39</td>\n",
       "      <td>State-gov</td>\n",
       "      <td>77516</td>\n",
       "      <td>Bachelors</td>\n",
       "      <td>13</td>\n",
       "      <td>Never-married</td>\n",
       "      <td>Adm-clerical</td>\n",
       "      <td>Not-in-family</td>\n",
       "      <td>White</td>\n",
       "      <td>Male</td>\n",
       "      <td>2174</td>\n",
       "      <td>0</td>\n",
       "      <td>40</td>\n",
       "      <td>United-States</td>\n",
       "      <td>&lt;=50K</td>\n",
       "    </tr>\n",
       "  </tbody>\n",
       "</table>\n",
       "</div>"
      ],
      "text/plain": [
       "   age   workclass  fnlwgt   education  education-num  marital-status  \\\n",
       "0   39   State-gov   77516   Bachelors             13   Never-married   \n",
       "\n",
       "      occupation    relationship    race    sex  capital-gain  capital-loss  \\\n",
       "0   Adm-clerical   Not-in-family   White   Male          2174             0   \n",
       "\n",
       "   hours-per-week  native-country   class  \n",
       "0              40   United-States   <=50K  "
      ]
     },
     "execution_count": 17,
     "metadata": {},
     "output_type": "execute_result"
    }
   ],
   "source": [
    "df.head(1)"
   ]
  },
  {
   "cell_type": "markdown",
   "metadata": {},
   "source": [
    "\"education\" e \"education-num\" significam a mesma coisa. Vamos utilizar \"education-num\" e dropar \"education\", já que \"education-num\" é a codificação ordinal de \"education\""
   ]
  },
  {
   "cell_type": "code",
   "execution_count": 18,
   "metadata": {},
   "outputs": [
    {
     "data": {
      "text/plain": [
       " HS-grad         10494\n",
       " Some-college     7282\n",
       " Bachelors        5353\n",
       " Masters          1722\n",
       " Assoc-voc        1382\n",
       " 11th             1175\n",
       " Assoc-acdm       1067\n",
       " 10th              933\n",
       " 7th-8th           645\n",
       " Prof-school       576\n",
       " 9th               514\n",
       " 12th              433\n",
       " Doctorate         413\n",
       " 5th-6th           332\n",
       " 1st-4th           166\n",
       " Preschool          50\n",
       "Name: education, dtype: int64"
      ]
     },
     "execution_count": 18,
     "metadata": {},
     "output_type": "execute_result"
    }
   ],
   "source": [
    "df['education'].value_counts()"
   ]
  },
  {
   "cell_type": "code",
   "execution_count": 19,
   "metadata": {},
   "outputs": [
    {
     "data": {
      "text/plain": [
       "9     10494\n",
       "10     7282\n",
       "13     5353\n",
       "14     1722\n",
       "11     1382\n",
       "7      1175\n",
       "12     1067\n",
       "6       933\n",
       "4       645\n",
       "15      576\n",
       "5       514\n",
       "8       433\n",
       "16      413\n",
       "3       332\n",
       "2       166\n",
       "1        50\n",
       "Name: education-num, dtype: int64"
      ]
     },
     "execution_count": 19,
     "metadata": {},
     "output_type": "execute_result"
    }
   ],
   "source": [
    "df['education-num'].value_counts()"
   ]
  },
  {
   "cell_type": "markdown",
   "metadata": {},
   "source": [
    "### Frequência das Variáveis Categóricas (Value_Counts)"
   ]
  },
  {
   "cell_type": "code",
   "execution_count": 20,
   "metadata": {},
   "outputs": [
    {
     "data": {
      "text/plain": [
       " Private             24072\n",
       " Self-emp-not-inc     2686\n",
       " Local-gov            2204\n",
       " State-gov            1374\n",
       " Self-emp-inc         1177\n",
       " Federal-gov          1002\n",
       " Without-pay            15\n",
       " Never-worked            7\n",
       "Name: workclass, dtype: int64"
      ]
     },
     "execution_count": 20,
     "metadata": {},
     "output_type": "execute_result"
    }
   ],
   "source": [
    "df['workclass'].value_counts()"
   ]
  },
  {
   "cell_type": "code",
   "execution_count": 21,
   "metadata": {},
   "outputs": [
    {
     "data": {
      "text/plain": [
       " HS-grad         10494\n",
       " Some-college     7282\n",
       " Bachelors        5353\n",
       " Masters          1722\n",
       " Assoc-voc        1382\n",
       " 11th             1175\n",
       " Assoc-acdm       1067\n",
       " 10th              933\n",
       " 7th-8th           645\n",
       " Prof-school       576\n",
       " 9th               514\n",
       " 12th              433\n",
       " Doctorate         413\n",
       " 5th-6th           332\n",
       " 1st-4th           166\n",
       " Preschool          50\n",
       "Name: education, dtype: int64"
      ]
     },
     "execution_count": 21,
     "metadata": {},
     "output_type": "execute_result"
    }
   ],
   "source": [
    "df['education'].value_counts()"
   ]
  },
  {
   "cell_type": "code",
   "execution_count": 22,
   "metadata": {},
   "outputs": [
    {
     "data": {
      "text/plain": [
       " Married-civ-spouse       14970\n",
       " Never-married            10667\n",
       " Divorced                  4441\n",
       " Separated                 1025\n",
       " Widowed                    993\n",
       " Married-spouse-absent      418\n",
       " Married-AF-spouse           23\n",
       "Name: marital-status, dtype: int64"
      ]
     },
     "execution_count": 22,
     "metadata": {},
     "output_type": "execute_result"
    }
   ],
   "source": [
    "df['marital-status'].value_counts()"
   ]
  },
  {
   "cell_type": "code",
   "execution_count": 23,
   "metadata": {},
   "outputs": [
    {
     "data": {
      "text/plain": [
       " Prof-specialty       4383\n",
       " Craft-repair         4358\n",
       " Exec-managerial      4315\n",
       " Adm-clerical         3980\n",
       " Sales                3863\n",
       " Other-service        3467\n",
       " Machine-op-inspct    2132\n",
       " Transport-moving     1703\n",
       " Handlers-cleaners    1470\n",
       " Farming-fishing      1036\n",
       " Tech-support          980\n",
       " Protective-serv       683\n",
       " Priv-house-serv       157\n",
       " Armed-Forces           10\n",
       "Name: occupation, dtype: int64"
      ]
     },
     "execution_count": 23,
     "metadata": {},
     "output_type": "execute_result"
    }
   ],
   "source": [
    "df['occupation'].value_counts()"
   ]
  },
  {
   "cell_type": "code",
   "execution_count": 24,
   "metadata": {},
   "outputs": [
    {
     "data": {
      "text/plain": [
       " Husband           13187\n",
       " Not-in-family      8292\n",
       " Own-child          5064\n",
       " Unmarried          3445\n",
       " Wife               1568\n",
       " Other-relative      981\n",
       "Name: relationship, dtype: int64"
      ]
     },
     "execution_count": 24,
     "metadata": {},
     "output_type": "execute_result"
    }
   ],
   "source": [
    "df['relationship'].value_counts()"
   ]
  },
  {
   "cell_type": "code",
   "execution_count": 25,
   "metadata": {},
   "outputs": [
    {
     "data": {
      "text/plain": [
       " White                 27795\n",
       " Black                  3122\n",
       " Asian-Pac-Islander     1038\n",
       " Amer-Indian-Eskimo      311\n",
       " Other                   271\n",
       "Name: race, dtype: int64"
      ]
     },
     "execution_count": 25,
     "metadata": {},
     "output_type": "execute_result"
    }
   ],
   "source": [
    "df['race'].value_counts()"
   ]
  },
  {
   "cell_type": "code",
   "execution_count": 26,
   "metadata": {},
   "outputs": [
    {
     "data": {
      "text/plain": [
       " Male      21775\n",
       " Female    10762\n",
       "Name: sex, dtype: int64"
      ]
     },
     "execution_count": 26,
     "metadata": {},
     "output_type": "execute_result"
    }
   ],
   "source": [
    "df['sex'].value_counts()"
   ]
  },
  {
   "cell_type": "code",
   "execution_count": 27,
   "metadata": {},
   "outputs": [
    {
     "data": {
      "text/plain": [
       " United-States                 29676\n",
       " Mexico                          653\n",
       " Philippines                     200\n",
       " Germany                         141\n",
       " Canada                          124\n",
       " Puerto-Rico                     118\n",
       " El-Salvador                     109\n",
       " India                           101\n",
       " Cuba                             97\n",
       " England                          93\n",
       " Jamaica                          83\n",
       " South                            80\n",
       " China                            77\n",
       " Dominican-Republic               74\n",
       " Italy                            73\n",
       " Vietnam                          72\n",
       " Guatemala                        64\n",
       " Japan                            63\n",
       " Columbia                         61\n",
       " Poland                           60\n",
       " Taiwan                           51\n",
       " Haiti                            45\n",
       " Iran                             43\n",
       " Portugal                         37\n",
       " Nicaragua                        34\n",
       " Peru                             31\n",
       " Greece                           30\n",
       " France                           29\n",
       " Ecuador                          28\n",
       " Ireland                          24\n",
       " Cambodia                         20\n",
       " Hong                             20\n",
       " Laos                             19\n",
       " Trinadad&Tobago                  19\n",
       " Thailand                         18\n",
       " Yugoslavia                       17\n",
       " Outlying-US(Guam-USVI-etc)       14\n",
       " Hungary                          13\n",
       " Honduras                         13\n",
       " Scotland                         12\n",
       " Holand-Netherlands                1\n",
       "Name: native-country, dtype: int64"
      ]
     },
     "execution_count": 27,
     "metadata": {},
     "output_type": "execute_result"
    }
   ],
   "source": [
    "df['native-country'].value_counts()"
   ]
  },
  {
   "cell_type": "code",
   "execution_count": 28,
   "metadata": {},
   "outputs": [
    {
     "data": {
      "text/plain": [
       " <=50K    24698\n",
       " >50K      7839\n",
       "Name: class, dtype: int64"
      ]
     },
     "execution_count": 28,
     "metadata": {},
     "output_type": "execute_result"
    }
   ],
   "source": [
    "df['class'].value_counts()"
   ]
  },
  {
   "cell_type": "markdown",
   "metadata": {},
   "source": [
    "No dataset de treino há apenas uma observação como \" Holand-Netherlands\", diante do tamanho do dataset (mais de 30mil linhas) optou-se por remover essa única linha com native-country=\" Holand-Netherlands\" de forma a evitar problemas de ausência do valor no dataset de teste."
   ]
  },
  {
   "cell_type": "code",
   "execution_count": 29,
   "metadata": {},
   "outputs": [
    {
     "data": {
      "text/plain": [
       " United-States                 29676\n",
       " Mexico                          653\n",
       " Philippines                     200\n",
       " Germany                         141\n",
       " Canada                          124\n",
       " Puerto-Rico                     118\n",
       " El-Salvador                     109\n",
       " India                           101\n",
       " Cuba                             97\n",
       " England                          93\n",
       " Jamaica                          83\n",
       " South                            80\n",
       " China                            77\n",
       " Dominican-Republic               74\n",
       " Italy                            73\n",
       " Vietnam                          72\n",
       " Guatemala                        64\n",
       " Japan                            63\n",
       " Columbia                         61\n",
       " Poland                           60\n",
       " Taiwan                           51\n",
       " Haiti                            45\n",
       " Iran                             43\n",
       " Portugal                         37\n",
       " Nicaragua                        34\n",
       " Peru                             31\n",
       " Greece                           30\n",
       " France                           29\n",
       " Ecuador                          28\n",
       " Ireland                          24\n",
       " Cambodia                         20\n",
       " Hong                             20\n",
       " Laos                             19\n",
       " Trinadad&Tobago                  19\n",
       " Thailand                         18\n",
       " Yugoslavia                       17\n",
       " Outlying-US(Guam-USVI-etc)       14\n",
       " Hungary                          13\n",
       " Honduras                         13\n",
       " Scotland                         12\n",
       " Holand-Netherlands                0\n",
       "Name: native-country, dtype: int64"
      ]
     },
     "execution_count": 29,
     "metadata": {},
     "output_type": "execute_result"
    }
   ],
   "source": [
    "df[df['native-country'] != \" Holand-Netherlands\"]['native-country'].value_counts()"
   ]
  },
  {
   "cell_type": "markdown",
   "metadata": {},
   "source": [
    "## Carregando e Processando o Conjunto de Teste"
   ]
  },
  {
   "cell_type": "code",
   "execution_count": 30,
   "metadata": {},
   "outputs": [
    {
     "data": {
      "text/html": [
       "<div>\n",
       "<style scoped>\n",
       "    .dataframe tbody tr th:only-of-type {\n",
       "        vertical-align: middle;\n",
       "    }\n",
       "\n",
       "    .dataframe tbody tr th {\n",
       "        vertical-align: top;\n",
       "    }\n",
       "\n",
       "    .dataframe thead th {\n",
       "        text-align: right;\n",
       "    }\n",
       "</style>\n",
       "<table border=\"1\" class=\"dataframe\">\n",
       "  <thead>\n",
       "    <tr style=\"text-align: right;\">\n",
       "      <th></th>\n",
       "      <th>age</th>\n",
       "      <th>workclass</th>\n",
       "      <th>fnlwgt</th>\n",
       "      <th>education</th>\n",
       "      <th>education-num</th>\n",
       "      <th>marital-status</th>\n",
       "      <th>occupation</th>\n",
       "      <th>relationship</th>\n",
       "      <th>race</th>\n",
       "      <th>sex</th>\n",
       "      <th>capital-gain</th>\n",
       "      <th>capital-loss</th>\n",
       "      <th>hours-per-week</th>\n",
       "      <th>native-country</th>\n",
       "      <th>class</th>\n",
       "    </tr>\n",
       "  </thead>\n",
       "  <tbody>\n",
       "    <tr>\n",
       "      <th>0</th>\n",
       "      <td>25</td>\n",
       "      <td>Private</td>\n",
       "      <td>226802</td>\n",
       "      <td>11th</td>\n",
       "      <td>7</td>\n",
       "      <td>Never-married</td>\n",
       "      <td>Machine-op-inspct</td>\n",
       "      <td>Own-child</td>\n",
       "      <td>Black</td>\n",
       "      <td>Male</td>\n",
       "      <td>0</td>\n",
       "      <td>0</td>\n",
       "      <td>40</td>\n",
       "      <td>United-States</td>\n",
       "      <td>&lt;=50K.</td>\n",
       "    </tr>\n",
       "  </tbody>\n",
       "</table>\n",
       "</div>"
      ],
      "text/plain": [
       "   age workclass  fnlwgt education  education-num  marital-status  \\\n",
       "0   25   Private  226802      11th              7   Never-married   \n",
       "\n",
       "           occupation relationship    race    sex  capital-gain  capital-loss  \\\n",
       "0   Machine-op-inspct    Own-child   Black   Male             0             0   \n",
       "\n",
       "   hours-per-week  native-country    class  \n",
       "0              40   United-States   <=50K.  "
      ]
     },
     "execution_count": 30,
     "metadata": {},
     "output_type": "execute_result"
    }
   ],
   "source": [
    "df_test = pd.read_csv(\"Dados/adult.test\", names = columns_name, index_col = False, skiprows = 1)\n",
    "df_test.head(1)"
   ]
  },
  {
   "cell_type": "markdown",
   "metadata": {},
   "source": [
    "### Preenchendo Dados Faltantes"
   ]
  },
  {
   "cell_type": "markdown",
   "metadata": {},
   "source": [
    "Realizando o mesmo procedimento de input utilizado no conjunto de treinamento."
   ]
  },
  {
   "cell_type": "code",
   "execution_count": 31,
   "metadata": {},
   "outputs": [
    {
     "name": "stdout",
     "output_type": "stream",
     "text": [
      "workclass\n",
      "963\n",
      "occupation\n",
      "966\n",
      "native-country\n",
      "274\n"
     ]
    }
   ],
   "source": [
    "tratamento_faltantes(df_test, columns_name)"
   ]
  },
  {
   "cell_type": "markdown",
   "metadata": {},
   "source": [
    "## Codificação das Variáveis Categóricas"
   ]
  },
  {
   "cell_type": "markdown",
   "metadata": {},
   "source": [
    "Realizaremos a codificação One Hot Encoding, dado que os modelos a serem utilizados necessitam de entradas numérica. Esse tipo de codifição é indicado para variáveis categóricas nominais, pois atribui distâncias uniformes às categorias."
   ]
  },
  {
   "cell_type": "code",
   "execution_count": 32,
   "metadata": {},
   "outputs": [],
   "source": [
    "def onehot_encoder(df):\n",
    "\n",
    "    colunas_cat = [\"workclass\", \"marital-status\", \"occupation\", \"relationship\", \"race\", \"sex\", \"native-country\"]\n",
    "    \n",
    "    for coluna in colunas_cat:\n",
    "\n",
    "        #print(coluna)\n",
    "        df_coluna = pd.get_dummies(df[coluna], prefix=coluna)\n",
    "        df = df.join(df_coluna)\n",
    "    \n",
    "    return df"
   ]
  },
  {
   "cell_type": "code",
   "execution_count": 33,
   "metadata": {},
   "outputs": [
    {
     "data": {
      "text/html": [
       "<div>\n",
       "<style scoped>\n",
       "    .dataframe tbody tr th:only-of-type {\n",
       "        vertical-align: middle;\n",
       "    }\n",
       "\n",
       "    .dataframe tbody tr th {\n",
       "        vertical-align: top;\n",
       "    }\n",
       "\n",
       "    .dataframe thead th {\n",
       "        text-align: right;\n",
       "    }\n",
       "</style>\n",
       "<table border=\"1\" class=\"dataframe\">\n",
       "  <thead>\n",
       "    <tr style=\"text-align: right;\">\n",
       "      <th></th>\n",
       "      <th>age</th>\n",
       "      <th>workclass</th>\n",
       "      <th>fnlwgt</th>\n",
       "      <th>education</th>\n",
       "      <th>education-num</th>\n",
       "      <th>marital-status</th>\n",
       "      <th>occupation</th>\n",
       "      <th>relationship</th>\n",
       "      <th>race</th>\n",
       "      <th>sex</th>\n",
       "      <th>...</th>\n",
       "      <th>native-country_ Portugal</th>\n",
       "      <th>native-country_ Puerto-Rico</th>\n",
       "      <th>native-country_ Scotland</th>\n",
       "      <th>native-country_ South</th>\n",
       "      <th>native-country_ Taiwan</th>\n",
       "      <th>native-country_ Thailand</th>\n",
       "      <th>native-country_ Trinadad&amp;Tobago</th>\n",
       "      <th>native-country_ United-States</th>\n",
       "      <th>native-country_ Vietnam</th>\n",
       "      <th>native-country_ Yugoslavia</th>\n",
       "    </tr>\n",
       "  </thead>\n",
       "  <tbody>\n",
       "    <tr>\n",
       "      <th>0</th>\n",
       "      <td>39</td>\n",
       "      <td>State-gov</td>\n",
       "      <td>77516</td>\n",
       "      <td>Bachelors</td>\n",
       "      <td>13</td>\n",
       "      <td>Never-married</td>\n",
       "      <td>Adm-clerical</td>\n",
       "      <td>Not-in-family</td>\n",
       "      <td>White</td>\n",
       "      <td>Male</td>\n",
       "      <td>...</td>\n",
       "      <td>0</td>\n",
       "      <td>0</td>\n",
       "      <td>0</td>\n",
       "      <td>0</td>\n",
       "      <td>0</td>\n",
       "      <td>0</td>\n",
       "      <td>0</td>\n",
       "      <td>1</td>\n",
       "      <td>0</td>\n",
       "      <td>0</td>\n",
       "    </tr>\n",
       "  </tbody>\n",
       "</table>\n",
       "<p>1 rows × 98 columns</p>\n",
       "</div>"
      ],
      "text/plain": [
       "   age   workclass  fnlwgt   education  education-num  marital-status  \\\n",
       "0   39   State-gov   77516   Bachelors             13   Never-married   \n",
       "\n",
       "      occupation    relationship    race    sex  ...  \\\n",
       "0   Adm-clerical   Not-in-family   White   Male  ...   \n",
       "\n",
       "   native-country_ Portugal  native-country_ Puerto-Rico  \\\n",
       "0                         0                            0   \n",
       "\n",
       "   native-country_ Scotland native-country_ South native-country_ Taiwan  \\\n",
       "0                         0                     0                      0   \n",
       "\n",
       "   native-country_ Thailand  native-country_ Trinadad&Tobago  \\\n",
       "0                         0                                0   \n",
       "\n",
       "   native-country_ United-States  native-country_ Vietnam  \\\n",
       "0                              1                        0   \n",
       "\n",
       "   native-country_ Yugoslavia  \n",
       "0                           0  \n",
       "\n",
       "[1 rows x 98 columns]"
      ]
     },
     "execution_count": 33,
     "metadata": {},
     "output_type": "execute_result"
    }
   ],
   "source": [
    "df = onehot_encoder(df)\n",
    "df.head(1)"
   ]
  },
  {
   "cell_type": "code",
   "execution_count": 34,
   "metadata": {},
   "outputs": [
    {
     "data": {
      "text/html": [
       "<div>\n",
       "<style scoped>\n",
       "    .dataframe tbody tr th:only-of-type {\n",
       "        vertical-align: middle;\n",
       "    }\n",
       "\n",
       "    .dataframe tbody tr th {\n",
       "        vertical-align: top;\n",
       "    }\n",
       "\n",
       "    .dataframe thead th {\n",
       "        text-align: right;\n",
       "    }\n",
       "</style>\n",
       "<table border=\"1\" class=\"dataframe\">\n",
       "  <thead>\n",
       "    <tr style=\"text-align: right;\">\n",
       "      <th></th>\n",
       "      <th>age</th>\n",
       "      <th>workclass</th>\n",
       "      <th>fnlwgt</th>\n",
       "      <th>education</th>\n",
       "      <th>education-num</th>\n",
       "      <th>marital-status</th>\n",
       "      <th>occupation</th>\n",
       "      <th>relationship</th>\n",
       "      <th>race</th>\n",
       "      <th>sex</th>\n",
       "      <th>...</th>\n",
       "      <th>native-country_ Portugal</th>\n",
       "      <th>native-country_ Puerto-Rico</th>\n",
       "      <th>native-country_ Scotland</th>\n",
       "      <th>native-country_ South</th>\n",
       "      <th>native-country_ Taiwan</th>\n",
       "      <th>native-country_ Thailand</th>\n",
       "      <th>native-country_ Trinadad&amp;Tobago</th>\n",
       "      <th>native-country_ United-States</th>\n",
       "      <th>native-country_ Vietnam</th>\n",
       "      <th>native-country_ Yugoslavia</th>\n",
       "    </tr>\n",
       "  </thead>\n",
       "  <tbody>\n",
       "    <tr>\n",
       "      <th>0</th>\n",
       "      <td>25</td>\n",
       "      <td>Private</td>\n",
       "      <td>226802</td>\n",
       "      <td>11th</td>\n",
       "      <td>7</td>\n",
       "      <td>Never-married</td>\n",
       "      <td>Machine-op-inspct</td>\n",
       "      <td>Own-child</td>\n",
       "      <td>Black</td>\n",
       "      <td>Male</td>\n",
       "      <td>...</td>\n",
       "      <td>0</td>\n",
       "      <td>0</td>\n",
       "      <td>0</td>\n",
       "      <td>0</td>\n",
       "      <td>0</td>\n",
       "      <td>0</td>\n",
       "      <td>0</td>\n",
       "      <td>1</td>\n",
       "      <td>0</td>\n",
       "      <td>0</td>\n",
       "    </tr>\n",
       "  </tbody>\n",
       "</table>\n",
       "<p>1 rows × 97 columns</p>\n",
       "</div>"
      ],
      "text/plain": [
       "   age workclass  fnlwgt education  education-num  marital-status  \\\n",
       "0   25   Private  226802      11th              7   Never-married   \n",
       "\n",
       "           occupation relationship    race    sex  ...  \\\n",
       "0   Machine-op-inspct    Own-child   Black   Male  ...   \n",
       "\n",
       "   native-country_ Portugal  native-country_ Puerto-Rico  \\\n",
       "0                         0                            0   \n",
       "\n",
       "   native-country_ Scotland native-country_ South native-country_ Taiwan  \\\n",
       "0                         0                     0                      0   \n",
       "\n",
       "   native-country_ Thailand  native-country_ Trinadad&Tobago  \\\n",
       "0                         0                                0   \n",
       "\n",
       "   native-country_ United-States  native-country_ Vietnam  \\\n",
       "0                              1                        0   \n",
       "\n",
       "   native-country_ Yugoslavia  \n",
       "0                           0  \n",
       "\n",
       "[1 rows x 97 columns]"
      ]
     },
     "execution_count": 34,
     "metadata": {},
     "output_type": "execute_result"
    }
   ],
   "source": [
    "df_test = onehot_encoder(df_test)\n",
    "df_test.head(1)"
   ]
  },
  {
   "cell_type": "markdown",
   "metadata": {},
   "source": [
    "Verificamos que no conjunto de teste não havia observações com o valor 'Holand-Netherlands' em 'native-country', fato que causava inconsistência com o conjunto de treinamento ao realizar o Hot Enconding. A fim de resolver esse problema, adicionamos manualmente a coluna 'native-country_ Holand-Netherlands'."
   ]
  },
  {
   "cell_type": "code",
   "execution_count": 35,
   "metadata": {},
   "outputs": [],
   "source": [
    "coluna = 'native-country_ Holand-Netherlands'\n",
    "#df[coluna]\n",
    "df_test[coluna] = 0"
   ]
  },
  {
   "cell_type": "markdown",
   "metadata": {},
   "source": [
    "## Normalizando Variáveis Contínuas"
   ]
  },
  {
   "cell_type": "markdown",
   "metadata": {},
   "source": [
    "Indica-se normalização uma vez que alguns modelos que serão utilizados são baseados em distância. Caso haja escala de distância muito distinta, pode ocorrer enviesamento em algumas features e consequentemente comprometimento na performance do classificador."
   ]
  },
  {
   "cell_type": "code",
   "execution_count": 36,
   "metadata": {},
   "outputs": [],
   "source": [
    "normalize = MinMaxScaler()"
   ]
  },
  {
   "cell_type": "code",
   "execution_count": 37,
   "metadata": {},
   "outputs": [],
   "source": [
    "colunas = [\"age\", \"fnlwgt\", \"capital-gain\", \"capital-loss\", \"hours-per-week\", \"education-num\"]\n",
    "\n",
    "df[colunas] = normalize.fit_transform(df[colunas])\n",
    "df_test[colunas] = normalize.fit_transform(df_test[colunas])"
   ]
  },
  {
   "cell_type": "code",
   "execution_count": 38,
   "metadata": {},
   "outputs": [
    {
     "data": {
      "text/html": [
       "<div>\n",
       "<style scoped>\n",
       "    .dataframe tbody tr th:only-of-type {\n",
       "        vertical-align: middle;\n",
       "    }\n",
       "\n",
       "    .dataframe tbody tr th {\n",
       "        vertical-align: top;\n",
       "    }\n",
       "\n",
       "    .dataframe thead th {\n",
       "        text-align: right;\n",
       "    }\n",
       "</style>\n",
       "<table border=\"1\" class=\"dataframe\">\n",
       "  <thead>\n",
       "    <tr style=\"text-align: right;\">\n",
       "      <th></th>\n",
       "      <th>age</th>\n",
       "      <th>fnlwgt</th>\n",
       "      <th>capital-gain</th>\n",
       "      <th>capital-loss</th>\n",
       "      <th>hours-per-week</th>\n",
       "      <th>education-num</th>\n",
       "    </tr>\n",
       "  </thead>\n",
       "  <tbody>\n",
       "    <tr>\n",
       "      <th>count</th>\n",
       "      <td>32537.000000</td>\n",
       "      <td>32537.000000</td>\n",
       "      <td>32537.000000</td>\n",
       "      <td>32537.000000</td>\n",
       "      <td>32537.000000</td>\n",
       "      <td>32537.000000</td>\n",
       "    </tr>\n",
       "    <tr>\n",
       "      <th>mean</th>\n",
       "      <td>0.295692</td>\n",
       "      <td>0.120547</td>\n",
       "      <td>0.010785</td>\n",
       "      <td>0.020057</td>\n",
       "      <td>0.402452</td>\n",
       "      <td>0.605454</td>\n",
       "    </tr>\n",
       "    <tr>\n",
       "      <th>std</th>\n",
       "      <td>0.186822</td>\n",
       "      <td>0.071689</td>\n",
       "      <td>0.073880</td>\n",
       "      <td>0.092539</td>\n",
       "      <td>0.125989</td>\n",
       "      <td>0.171442</td>\n",
       "    </tr>\n",
       "    <tr>\n",
       "      <th>min</th>\n",
       "      <td>0.000000</td>\n",
       "      <td>0.000000</td>\n",
       "      <td>0.000000</td>\n",
       "      <td>0.000000</td>\n",
       "      <td>0.000000</td>\n",
       "      <td>0.000000</td>\n",
       "    </tr>\n",
       "    <tr>\n",
       "      <th>25%</th>\n",
       "      <td>0.150685</td>\n",
       "      <td>0.071679</td>\n",
       "      <td>0.000000</td>\n",
       "      <td>0.000000</td>\n",
       "      <td>0.397959</td>\n",
       "      <td>0.533333</td>\n",
       "    </tr>\n",
       "    <tr>\n",
       "      <th>50%</th>\n",
       "      <td>0.273973</td>\n",
       "      <td>0.112788</td>\n",
       "      <td>0.000000</td>\n",
       "      <td>0.000000</td>\n",
       "      <td>0.397959</td>\n",
       "      <td>0.600000</td>\n",
       "    </tr>\n",
       "    <tr>\n",
       "      <th>75%</th>\n",
       "      <td>0.424658</td>\n",
       "      <td>0.152611</td>\n",
       "      <td>0.000000</td>\n",
       "      <td>0.000000</td>\n",
       "      <td>0.448980</td>\n",
       "      <td>0.733333</td>\n",
       "    </tr>\n",
       "    <tr>\n",
       "      <th>max</th>\n",
       "      <td>1.000000</td>\n",
       "      <td>1.000000</td>\n",
       "      <td>1.000000</td>\n",
       "      <td>1.000000</td>\n",
       "      <td>1.000000</td>\n",
       "      <td>1.000000</td>\n",
       "    </tr>\n",
       "  </tbody>\n",
       "</table>\n",
       "</div>"
      ],
      "text/plain": [
       "                age        fnlwgt  capital-gain  capital-loss  hours-per-week  \\\n",
       "count  32537.000000  32537.000000  32537.000000  32537.000000    32537.000000   \n",
       "mean       0.295692      0.120547      0.010785      0.020057        0.402452   \n",
       "std        0.186822      0.071689      0.073880      0.092539        0.125989   \n",
       "min        0.000000      0.000000      0.000000      0.000000        0.000000   \n",
       "25%        0.150685      0.071679      0.000000      0.000000        0.397959   \n",
       "50%        0.273973      0.112788      0.000000      0.000000        0.397959   \n",
       "75%        0.424658      0.152611      0.000000      0.000000        0.448980   \n",
       "max        1.000000      1.000000      1.000000      1.000000        1.000000   \n",
       "\n",
       "       education-num  \n",
       "count   32537.000000  \n",
       "mean        0.605454  \n",
       "std         0.171442  \n",
       "min         0.000000  \n",
       "25%         0.533333  \n",
       "50%         0.600000  \n",
       "75%         0.733333  \n",
       "max         1.000000  "
      ]
     },
     "execution_count": 38,
     "metadata": {},
     "output_type": "execute_result"
    }
   ],
   "source": [
    "df[colunas].describe()"
   ]
  },
  {
   "cell_type": "markdown",
   "metadata": {},
   "source": [
    "## Dividindo o Conjuntos de Dados"
   ]
  },
  {
   "cell_type": "code",
   "execution_count": 39,
   "metadata": {},
   "outputs": [],
   "source": [
    "colunas_drop = [\"class\", \"education\", \"workclass\", \"marital-status\", \"occupation\", \"relationship\", \"race\", \"sex\", \"native-country\"]\n",
    "\n",
    "X_train = df.drop(colunas_drop, axis = 1).to_numpy()\n",
    "y_train = df[\"class\"].values\n",
    "X_test = df_test.drop(colunas_drop, axis = 1).to_numpy()\n",
    "y_test = df_test[\"class\"].values"
   ]
  },
  {
   "cell_type": "markdown",
   "metadata": {},
   "source": [
    "Codificando as classes para valores numéricos:\n",
    "- '<=50K' :  0\n",
    "- '>50K'  : 1 "
   ]
  },
  {
   "cell_type": "code",
   "execution_count": 40,
   "metadata": {},
   "outputs": [],
   "source": [
    "label_encoder = preprocessing.LabelEncoder()\n",
    "\n",
    "y_train = label_encoder.fit_transform(y_train)\n",
    "y_test = label_encoder.fit_transform(y_test)"
   ]
  },
  {
   "cell_type": "markdown",
   "metadata": {},
   "source": [
    "## Plot do conjunto de Treino (PCA)"
   ]
  },
  {
   "cell_type": "code",
   "execution_count": 41,
   "metadata": {},
   "outputs": [
    {
     "data": {
      "image/png": "[encoded data removed]",
      "text/plain": [
       "<Figure size 1080x720 with 1 Axes>"
      ]
     },
     "metadata": {
      "needs_background": "light"
     },
     "output_type": "display_data"
    }
   ],
   "source": [
    "pca = PCA(2)\n",
    "X_pca = pca.fit_transform(preprocessing.minmax_scale(X_train))\n",
    "\n",
    "fig, ax = plt.subplots(figsize=(15,10))\n",
    "scatter = ax.scatter(X_pca[:, 0], X_pca[:, 1], c=y_train)\n",
    "\n",
    "legend1 = ax.legend(*scatter.legend_elements(),\n",
    "                    loc=\"lower left\", title=\"Classes\")\n",
    "ax.add_artist(legend1)\n",
    "plt.show()"
   ]
  },
  {
   "cell_type": "markdown",
   "metadata": {},
   "source": [
    "# 4. Modelagem"
   ]
  },
  {
   "cell_type": "markdown",
   "metadata": {},
   "source": [
    "Definindo tamanho do folder no cross validation."
   ]
  },
  {
   "cell_type": "code",
   "execution_count": 42,
   "metadata": {},
   "outputs": [],
   "source": [
    "cv = model_selection.StratifiedKFold(n_splits=10)"
   ]
  },
  {
   "cell_type": "markdown",
   "metadata": {},
   "source": [
    "## KNN"
   ]
  },
  {
   "cell_type": "markdown",
   "metadata": {},
   "source": [
    "Para avaliação do KNN foram considerados o número de vizinhos (n_neighbors) e o tipo de distância (metric)."
   ]
  },
  {
   "cell_type": "code",
   "execution_count": 43,
   "metadata": {},
   "outputs": [],
   "source": [
    "def val_knn(X_train, y_train, parameters, cv, SEED):\n",
    "    \n",
    "    knn = KNeighborsClassifier()\n",
    "    \n",
    "    search = RandomizedSearchCV(knn,\n",
    "                                parameters,\n",
    "                                n_iter = 50,\n",
    "                                scoring = 'accuracy',\n",
    "                                n_jobs = -1,\n",
    "                                cv = cv,\n",
    "                                random_state = SEED)\n",
    "    \n",
    "    result_knn = search.fit(X_train, y_train)\n",
    "    \n",
    "    print('=========Resultados do Random Search para o KNN==========')\n",
    "    print(f'Melhor Score: {result_knn.best_score_}')\n",
    "    print(f'Melhores Hiperparâmetros: {result_knn.best_params_}')\n",
    "    \n",
    "    return result_knn"
   ]
  },
  {
   "cell_type": "code",
   "execution_count": 44,
   "metadata": {},
   "outputs": [],
   "source": [
    "#Definindo parâmetros para avaliação\n",
    "parameters = dict()\n",
    "parameters['n_neighbors'] = range(1, 100)\n",
    "parameters['metric'] = ['euclidean','manhattan']\n",
    "\n",
    "# result_knn = val_knn(X_train, y_train, parameters, cv, SEED)"
   ]
  },
  {
   "cell_type": "markdown",
   "metadata": {},
   "source": [
    "**Melhores parâmetros para KNN:**\n",
    "- n_neighbors: 23\n",
    "- metric': 'manhattan'"
   ]
  },
  {
   "cell_type": "markdown",
   "metadata": {},
   "source": [
    "## Árvore de Decisão Simples"
   ]
  },
  {
   "cell_type": "markdown",
   "metadata": {},
   "source": [
    "Para avaliação da árvore de decisão foram considerados a profundidade da árvore (max_depth), o critério de divisão (criteon), número mínimo de amostra para realizar divisão (min_samples_split), mínimo de amostras necessárias para ser uma folha (min_samples_leaf)."
   ]
  },
  {
   "cell_type": "code",
   "execution_count": 45,
   "metadata": {},
   "outputs": [],
   "source": [
    "def val_tree(X_train, y_train, parameters, cv, SEED):\n",
    "    \n",
    "    decisionTree = DecisionTreeClassifier()\n",
    "    \n",
    "    search = RandomizedSearchCV(decisionTree,\n",
    "                                parameters,\n",
    "                                n_iter = 50,\n",
    "                                scoring = 'accuracy',\n",
    "                                n_jobs = -1,\n",
    "                                cv = cv,\n",
    "                                random_state = SEED)\n",
    "    \n",
    "    result_tree = search.fit(X_train, y_train)\n",
    "    \n",
    "    print('=========Resultados do Random Search para a Árvore de Decisão Simples==========')\n",
    "    print(f'Melhor Score: {result_tree.best_score_}')\n",
    "    print(f'Melhores Hiperparâmetros: {result_tree.best_params_}')\n",
    "    \n",
    "    return result_tree"
   ]
  },
  {
   "cell_type": "code",
   "execution_count": 46,
   "metadata": {},
   "outputs": [],
   "source": [
    "#Definindo parâmetros para avaliação\n",
    "parameters = dict()\n",
    "parameters['criterion'] = ['gini', 'entropy']\n",
    "parameters['max_depth'] = range(1,30)\n",
    "parameters['min_samples_split'] = range(1,20)\n",
    "parameters['min_samples_leaf'] = range(1,10)\n",
    "\n",
    "# result_tree = val_tree(X_train, y_train, parameters, cv, SEED)"
   ]
  },
  {
   "cell_type": "markdown",
   "metadata": {},
   "source": [
    "**Melhores parâmetros para Árvore de Decisão:**\n",
    "\n",
    "- criterion: 'gini'\n",
    "- max_depth: 11\n",
    "- min_samples_split: 15\n",
    "- min_samples_leaf: 2"
   ]
  },
  {
   "cell_type": "markdown",
   "metadata": {},
   "source": [
    "## Random Forest"
   ]
  },
  {
   "cell_type": "markdown",
   "metadata": {},
   "source": [
    "Para avaliação do Random Forest foram considerados o número de árvores da floresta (n_estimators), o critério de divisão (criteon), número mínimo de amostra para realizar divisão (min_samples_split), mínimo de amostras necessárias para ser uma folha (min_samples_leaf) e número máximo de features (max_features) ."
   ]
  },
  {
   "cell_type": "code",
   "execution_count": 47,
   "metadata": {},
   "outputs": [],
   "source": [
    "def val_rf(X_train, y_train, parameters, cv, SEED):\n",
    "\n",
    "    rf = RandomForestClassifier(random_state = SEED)\n",
    "\n",
    "    search = GridSearchCV(rf,\n",
    "                          parameters,\n",
    "                          scoring = \"accuracy\",\n",
    "                          n_jobs = -1,\n",
    "                          cv = cv)\n",
    "\n",
    "    result_rf = search.fit(X_train, y_train)\n",
    "    \n",
    "    print('=========Resultados do Grid Search para Random Forest==========')\n",
    "    print(f'Melhor Score: {result_rf.best_score_}')\n",
    "    print(f'Melhores Hiperparâmetros: {result_rf.best_params_}')\n",
    "\n",
    "    return result_rf\n"
   ]
  },
  {
   "cell_type": "markdown",
   "metadata": {},
   "source": [
    "### Tentativa 1 (18min)"
   ]
  },
  {
   "cell_type": "code",
   "execution_count": 48,
   "metadata": {},
   "outputs": [],
   "source": [
    "parameters = dict()\n",
    "parameters['n_estimators'] = range(10, 301, 20)\n",
    "parameters['criterion'] = [\"gini\", \"entropy\"]\n",
    "parameters['max_features'] = [\"auto\", \"sqrt\", \"log2\"]\n",
    "\n",
    "#result_rf_1 = val_rf(X_train, y_train, parameters, cv, SEED)"
   ]
  },
  {
   "cell_type": "markdown",
   "metadata": {},
   "source": [
    "### Tentativa 2 (47min)"
   ]
  },
  {
   "cell_type": "code",
   "execution_count": 49,
   "metadata": {},
   "outputs": [],
   "source": [
    "parameters = dict()\n",
    "parameters['n_estimators'] = range(300, 451, 10)\n",
    "parameters['criterion'] = [\"gini\", \"entropy\"]\n",
    "parameters['max_features'] = [\"auto\", \"sqrt\", \"log2\"]\n",
    "\n",
    "#result_rf_2 = search_rf(parameters, cv, X_train, y_train, SEED)"
   ]
  },
  {
   "cell_type": "markdown",
   "metadata": {},
   "source": [
    "### Tentativa 3 (17min)"
   ]
  },
  {
   "cell_type": "code",
   "execution_count": 50,
   "metadata": {},
   "outputs": [],
   "source": [
    "parameters = dict()\n",
    "parameters['n_estimators'] = range(408, 413, 1)\n",
    "parameters['criterion'] = [\"gini\", \"entropy\"]\n",
    "parameters['max_features'] = [\"auto\", \"sqrt\", \"log2\"]\n",
    "\n",
    "#result_rf_3 = search_rf(parameters, cv, X_train, y_train, SEED)"
   ]
  },
  {
   "cell_type": "markdown",
   "metadata": {},
   "source": [
    "### Tentativa 4"
   ]
  },
  {
   "cell_type": "code",
   "execution_count": 51,
   "metadata": {},
   "outputs": [],
   "source": [
    "parameters = dict()\n",
    "parameters['n_estimators'] = [190, 440, 412]\n",
    "parameters['criterion'] = [\"gini\", \"entropy\"]\n",
    "parameters['max_features'] = [\"auto\", \"sqrt\", \"log2\"]\n",
    "parameters['min_samples_leaf'] = [1, 4]\n",
    "parameters['min_samples_split'] = [2, 10]\n",
    "#parameters['max_depth'] = [10, 100, None]#[10, 20, 30, 40, 50, 60, 70, 80, 90, 100, None]\n",
    "\n",
    "#result_rf_4 = search_rf(parameters, cv, X_train, y_train, SEED)"
   ]
  },
  {
   "cell_type": "markdown",
   "metadata": {},
   "source": [
    "**Melhores parâmetros para Random Forest:**\n",
    "\n",
    "- n_estimators: 440\n",
    "- criterion: \"gini\"\n",
    "- max_features: \"auto\"\n",
    "- min_samples_split: 4\n",
    "- min_samples_leaf: 10"
   ]
  },
  {
   "cell_type": "markdown",
   "metadata": {},
   "source": [
    "## Rede Neural MLP"
   ]
  },
  {
   "cell_type": "markdown",
   "metadata": {},
   "source": [
    "Para avaliação da Rede Neural MLP foram considerados números de camadas escondidas (hidden_layer_sizes), a função de ativação (activation), algorítmos de treinamento (solver), tipo de taxa de aprendizado (learning_rate). "
   ]
  },
  {
   "cell_type": "code",
   "execution_count": 52,
   "metadata": {},
   "outputs": [],
   "source": [
    "def val_mlp(X_train, y_train, parameters, cv, SEED, search_type = 0):\n",
    "\n",
    "    mlp = MLPClassifier(random_state = SEED)\n",
    "    \n",
    "    if search_type == 0:\n",
    "        search = GridSearchCV(mlp,\n",
    "                            parameters,\n",
    "                            scoring = \"accuracy\",\n",
    "                            n_jobs = -1,\n",
    "                            cv = cv)\n",
    "    else:\n",
    "        search = RandomizedSearchCV(mlp,\n",
    "                                    parameters,\n",
    "                                    n_iter = 50,\n",
    "                                    scoring = \"accuracy\",\n",
    "                                    n_jobs = -1,                            \n",
    "                                    cv = cv,\n",
    "                                    random_state = SEED)\n",
    "\n",
    "    result_mlp = search.fit(X_train, y_train)\n",
    "    \n",
    "    print(f'=========Resultados do {\"Grid\" if (search_type == 0) else \"Random\"} Search para MLP==========')\n",
    "    print(f'Melhor Score: {result_mlp.best_score_}')\n",
    "    print(f'Melhores Hiperparâmetros: {result_mlp.best_params_}')\n",
    "\n",
    "    return result_mlp"
   ]
  },
  {
   "cell_type": "markdown",
   "metadata": {},
   "source": [
    "### Tentativa 1 (55 min)"
   ]
  },
  {
   "cell_type": "code",
   "execution_count": 53,
   "metadata": {},
   "outputs": [],
   "source": [
    "# Definindo parâmetros do MPL\n",
    "parameters = dict()\n",
    "parameters[\"hidden_layer_sizes\"] = [(4,4), (20,15),(50,50), (100,50)] #Testando com 2 camadas\n",
    "parameters[\"activation\"] = [\"logistic\", \"tanh\", \"relu\", \"identity\"]\n",
    "parameters[\"solver\"] = [\"lbfgs\", \"sgd\", \"adam\"]\n",
    "parameters[\"learning_rate\"] = [\"constant\", \"invscaling\", \"adaptive\"] \n",
    "\n",
    "# result_mlp_1 = val_mlp(X_train, y_train, parameters, cv, SEED, 1)"
   ]
  },
  {
   "cell_type": "markdown",
   "metadata": {},
   "source": [
    "### Tentativa 2"
   ]
  },
  {
   "cell_type": "code",
   "execution_count": 54,
   "metadata": {},
   "outputs": [],
   "source": [
    "#Adicionando leaning_rate e retirando algumas opções\n",
    "parameters = dict()\n",
    "parameters[\"hidden_layer_sizes\"] = [(4,10,4),(20,10,5),(250, 100, 50)] #Testando com 3 camadas \n",
    "parameters[\"activation\"] = [\"logistic\", \"tanh\", \"relu\", \"identity\"]\n",
    "parameters[\"solver\"] =  [\"lbfgs\", \"sgd\", \"adam\"]\n",
    "parameters[\"learning_rate\"] = [\"constant\", \"invscaling\", \"adaptive\"] \n",
    "\n",
    "#result_mlp_2 = val_mlp(X_train, y_train, parameters, cv, SEED, 1)"
   ]
  },
  {
   "cell_type": "markdown",
   "metadata": {},
   "source": [
    "### Tentativa 3"
   ]
  },
  {
   "cell_type": "code",
   "execution_count": 55,
   "metadata": {},
   "outputs": [],
   "source": [
    "#Testando melhores resultados da tentativa 1 e 2\n",
    "parameters = dict()\n",
    "parameters[\"hidden_layer_sizes\"] = [(20,15), (250, 100, 50)]\n",
    "parameters[\"activation\"] = [\"tanh\", \"logistic\"]\n",
    "parameters[\"solver\"] = [\"lbfgs\"]\n",
    "parameters[\"learning_rate\"] = [\"constant\", \"adaptive\"] \n",
    "\n",
    "#result_mlp_3 = val_mlp(X_train, y_train, parameters, cv, SEED)"
   ]
  },
  {
   "cell_type": "markdown",
   "metadata": {},
   "source": [
    "### Tentativa 4"
   ]
  },
  {
   "cell_type": "code",
   "execution_count": 56,
   "metadata": {},
   "outputs": [],
   "source": [
    "#Testando camadas mais profundas\n",
    "parameters = dict()\n",
    "parameters[\"hidden_layer_sizes\"] = [(5,5,5,5), (10,10,10,10), (50,50,50,50), (10,10,10,10,10)]\n",
    "parameters[\"activation\"] = [\"tanh\"]\n",
    "parameters[\"solver\"] = [\"lbfgs\"]\n",
    "parameters[\"learning_rate\"] = [\"constant\"] \n",
    "\n",
    "#result_mlp_4 = val_mlp(X_train, y_train, parameters, cv, SEED)"
   ]
  },
  {
   "cell_type": "markdown",
   "metadata": {},
   "source": [
    "**Melhores parâmetros para Rede Neural MLP:**\n",
    "\n",
    "- hidden_layer_sizes: (50, 50, 50, 50)\n",
    "- activation: 'tanh'\n",
    "- solver: 'lbfgs'\n",
    "- learning_rate: 'constant'"
   ]
  },
  {
   "cell_type": "markdown",
   "metadata": {},
   "source": [
    "## Comitê de Redes Neurais"
   ]
  },
  {
   "cell_type": "markdown",
   "metadata": {},
   "source": [
    "Para avaliação do Comitê de Redes Neurais foram considerados números de camadas escondidas (hidden_layer_sizes), número de interações (max_iter), quantidade de classificadores no bagging (n_estimators), tamanho da amostra escolhida para treinar os classificadores (max_samples). "
   ]
  },
  {
   "cell_type": "code",
   "execution_count": 102,
   "metadata": {},
   "outputs": [],
   "source": [
    "def val_bgc(X_train, y_train, parameters, cv, SEED):\n",
    "       \n",
    "    search = GridSearchCV(BaggingClassifier(MLPClassifier(random_state = SEED)),\n",
    "                          parameters,\n",
    "                          scoring = \"accuracy\",\n",
    "                          n_jobs = -1,\n",
    "                          cv = cv\n",
    "                          )\n",
    "\n",
    "    result_bgc = search.fit(X_train, y_train)\n",
    "   \n",
    "    print(f'=========Resultados do Grid Search para Bagging Classifier com Redes Neurais MLP==========')\n",
    "    print(f'Melhor Score: {result_bgc.best_score_}')\n",
    "    print(f'Melhores Hiperparâmetros: {result_bgc.best_params_}')\n",
    "\n",
    "    return result_bgc"
   ]
  },
  {
   "cell_type": "code",
   "execution_count": 58,
   "metadata": {},
   "outputs": [],
   "source": [
    "parameters = dict()\n",
    "parameters[\"n_estimators\"] = [20, 30, 40, 50]\n",
    "parameters[\"max_samples\"] = [0.1, 0.2]\n",
    "parameters[\"base_estimator__hidden_layer_sizes\"] = [(10, 10), (20, 20)]\n",
    "\n",
    "result_bgc = val_bgc(X_train, y_train, parameters, cv, SEED)"
   ]
  },
  {
   "cell_type": "markdown",
   "metadata": {},
   "source": [
    "**Melhores parâmetros para Comitê de Redes Neurais:**\n",
    "\n",
    "- hidden_layer_sizes: (20, 20)\n",
    "- n_estimators: 30\n",
    "- max_samples: 0.2"
   ]
  },
  {
   "cell_type": "markdown",
   "metadata": {},
   "source": [
    "## Comitê Heterogêneo"
   ]
  },
  {
   "cell_type": "markdown",
   "metadata": {},
   "source": [
    "Este comitê utiliza quatro estimadores fracos (KNN, árvore de decisão, random forest e rede neural MLP)."
   ]
  },
  {
   "cell_type": "code",
   "execution_count": 59,
   "metadata": {},
   "outputs": [],
   "source": [
    "def val_ensemble(X_train, y_train, estimators, cv):\n",
    "       \n",
    "    ensemble = VotingClassifier(estimators)\n",
    "    \n",
    "    result_ens = model_selection.cross_val_score(ensemble, X_train, y_train, cv = cv)\n",
    "   \n",
    "    print(f'=========Resultados do Comitê Heterogêneo com KNN, Árvore de Decisão, Random Forest e MLP==========')\n",
    "    print(f'Score: {result_ens.mean()}')\n",
    "\n",
    "    return result_ens"
   ]
  },
  {
   "cell_type": "markdown",
   "metadata": {},
   "source": [
    "### Tentativa 1"
   ]
  },
  {
   "cell_type": "code",
   "execution_count": 60,
   "metadata": {},
   "outputs": [],
   "source": [
    "estimators1 = []\n",
    "\n",
    "model1 = KNeighborsClassifier()\n",
    "estimators1.append(('KNN', model1))\n",
    "\n",
    "model2 = DecisionTreeClassifier(max_depth = 7)\n",
    "estimators1.append(('Tree', model2))\n",
    "\n",
    "model3 = RandomForestClassifier()\n",
    "estimators1.append(('RF', model3))\n",
    "\n",
    "model4 = MLPClassifier(hidden_layer_sizes = (10,10))\n",
    "estimators1.append(('MLP', model4))\n",
    "\n",
    "#result_ens1 = val_ensemble(X_train, y_train, estimators1, cv)\n",
    "#Tentativa 1: Score: 0.8585613374520158"
   ]
  },
  {
   "cell_type": "markdown",
   "metadata": {},
   "source": [
    "### Tentativa 2"
   ]
  },
  {
   "cell_type": "code",
   "execution_count": 61,
   "metadata": {},
   "outputs": [],
   "source": [
    "estimators2 = []\n",
    "\n",
    "model1 = KNeighborsClassifier()\n",
    "estimators2.append(('KNN', model1))\n",
    "\n",
    "model2 = MLPClassifier(hidden_layer_sizes = (10,10))\n",
    "estimators2.append(('MLP', model2))\n",
    "\n",
    "#result_ens2 = val_ensemble(X_train, y_train, estimators2, cv)\n",
    "#Tentativa 2: Score: 0.8389527911543426"
   ]
  },
  {
   "cell_type": "markdown",
   "metadata": {},
   "source": [
    "### Tentativa 3"
   ]
  },
  {
   "cell_type": "code",
   "execution_count": 62,
   "metadata": {},
   "outputs": [],
   "source": [
    "estimators3 = []\n",
    "\n",
    "model1 = DecisionTreeClassifier(max_depth = 6)\n",
    "estimators3.append(('Tree1', model1))\n",
    "\n",
    "model2 = RandomForestClassifier(n_estimators = 50)\n",
    "estimators3.append(('RF1', model2))\n",
    "\n",
    "model3 = DecisionTreeClassifier(max_depth = 8)\n",
    "estimators3.append(('Tree2', model3))\n",
    "\n",
    "model4 = RandomForestClassifier()\n",
    "estimators3.append(('RF2', model4))\n",
    "\n",
    "\n",
    "#result_ens3 = val_ensemble(X_train, y_train, estimators3, cv)\n",
    "#Tentativa 3: Score: 0.8559797575156856"
   ]
  },
  {
   "cell_type": "markdown",
   "metadata": {},
   "source": [
    "**Melhores parâmetros para Comitê Heterogêneo:**\n",
    "\n",
    "Melhor score obtido na tentativa 1: 4 classificadores (KNN, árvore de decisão, random forest e rede neural MLP)"
   ]
  },
  {
   "cell_type": "markdown",
   "metadata": {},
   "source": [
    "## Melhores Modelos Encontrados"
   ]
  },
  {
   "cell_type": "markdown",
   "metadata": {},
   "source": [
    "Definição dos modelos de classificação com as melhores configurações encontradas na seção anterior."
   ]
  },
  {
   "cell_type": "code",
   "execution_count": 63,
   "metadata": {},
   "outputs": [],
   "source": [
    "# criação dos modelos com os melhores parâmetros\n",
    "knn = KNeighborsClassifier(n_neighbors = 23, metric = 'manhattan')\n",
    "\n",
    "arvore = DecisionTreeClassifier(min_samples_split = 15, min_samples_leaf = 2, max_depth = 11, criterion = 'gini')\n",
    "\n",
    "rf = RandomForestClassifier(n_estimators = 440,\n",
    "                            criterion = \"gini\",\n",
    "                            max_features = \"auto\",\n",
    "                            min_samples_leaf = 4,\n",
    "                            min_samples_split = 10,\n",
    "                            random_state = SEED)\n",
    "\n",
    "mlp = MLPClassifier(activation = 'tanh',\n",
    "                    hidden_layer_sizes = (50, 50, 50, 50),\n",
    "                    learning_rate = 'constant',\n",
    "                    solver = 'lbfgs')\n",
    "\n",
    "comite_mlp = BaggingClassifier(MLPClassifier(hidden_layer_sizes = (20, 20),\n",
    "                                             random_state = SEED),\n",
    "                               n_estimators = 30,\n",
    "                               max_samples = 0.2\n",
    "                              )\n",
    "\n",
    "comite_h = VotingClassifier(estimators1)"
   ]
  },
  {
   "cell_type": "markdown",
   "metadata": {},
   "source": [
    "Adicionamos os modelos em uma lista a fim de coletar suas avaliações."
   ]
  },
  {
   "cell_type": "code",
   "execution_count": 110,
   "metadata": {},
   "outputs": [],
   "source": [
    "models = []\n",
    "models.append(('knn', knn))\n",
    "models.append(('arvore', arvore))\n",
    "models.append(('random', rf))\n",
    "models.append(('mlp', mlp))\n",
    "models.append(('comite_mlp', comite_mlp))\n",
    "models.append(('comite_h', comite_h))"
   ]
  },
  {
   "cell_type": "markdown",
   "metadata": {},
   "source": [
    "### Execução do Modelo Experimental"
   ]
  },
  {
   "cell_type": "code",
   "execution_count": 124,
   "metadata": {},
   "outputs": [
    {
     "name": "stdout",
     "output_type": "stream",
     "text": [
      "\n",
      "Desempenhos médios dos modelos:\n",
      "knn: 0.8591 (0.0047)\n",
      "arvore: 0.8591 (0.0047)\n",
      "random: 0.8591 (0.0047)\n",
      "mlp: 0.8591 (0.0047)\n",
      "comite_mlp: 0.8591 (0.0047)\n",
      "comite_h: 0.8591 (0.0047)\n"
     ]
    }
   ],
   "source": [
    "#Avaliação de cada modelo nas amotragens estratificas\n",
    "print('\\nDesempenhos médios dos modelos:')\n",
    "\n",
    "results = []\n",
    "names = []\n",
    "for name, model in models:\n",
    "    \n",
    "    cv_results = model_selection.cross_val_score(model, X_train, y_train, cv = cv, scoring = 'accuracy')\n",
    "    \n",
    "    results.append(cv_results)\n",
    "    names.append(name)\n",
    "    \n",
    "    print(f\"{name}: {round(cv_results.mean(), 4)} ({round(cv_results.std(), 4)})\")"
   ]
  },
  {
   "cell_type": "markdown",
   "metadata": {},
   "source": [
    "### Comparação de Modelos"
   ]
  },
  {
   "cell_type": "markdown",
   "metadata": {},
   "source": [
    "A partir dos valores encontrados na validação cruzada acima, iremos realizar o teste de significânica estatística a fim de comparar os classificadores."
   ]
  },
  {
   "cell_type": "markdown",
   "metadata": {},
   "source": [
    "Utilizamos o teste **Kruskal-Wallis**\n",
    "\n",
    "Passos: \n",
    "1. Detectamos se havia distribuições distintas.\n",
    "2. Caso encontrado uma distribuição distinta, realizamos o teste Kruskal par a par para determinar qual classificador é estatísticamente diferente do outro."
   ]
  },
  {
   "cell_type": "markdown",
   "metadata": {},
   "source": [
    "#### Teste de Hipótese Analisando o p-value"
   ]
  },
  {
   "cell_type": "code",
   "execution_count": 122,
   "metadata": {},
   "outputs": [
    {
     "name": "stdout",
     "output_type": "stream",
     "text": [
      "p_value: 1.7732944757364766e-07. Comparison stats: 39.629863813229555\n"
     ]
    }
   ],
   "source": [
    "stat, p = stats.kruskal(results[0], results[1], results[2], results[3], results[4], results[5])\n",
    "print(f\"p_value: {p}. Comparison stats: {stat}\")"
   ]
  },
  {
   "cell_type": "code",
   "execution_count": 123,
   "metadata": {},
   "outputs": [
    {
     "name": "stdout",
     "output_type": "stream",
     "text": [
      "\n",
      "Diferentes distribuições (rejeita H0)\n",
      "\n",
      "COMPARAÇÃO:\n",
      "   KNN         | ÁRVORE      -> statistic = 14.296,\tp_value = 0.0002,\tDiferentes distribuições (rejeita H0) \n",
      "   KNN         | RF          -> statistic = 14.296,\tp_value = 0.0002,\tDiferentes distribuições (rejeita H0) \n",
      "   KNN         | MLP         -> statistic = 14.296,\tp_value = 0.0002,\tDiferentes distribuições (rejeita H0) \n",
      "   KNN         | COMITÊ MLP  -> statistic = 13.73,\tp_value = 0.0002,\tDiferentes distribuições (rejeita H0) \n",
      "   KNN         | COMITÊ HET. -> statistic = 14.296,\tp_value = 0.0002,\tDiferentes distribuições (rejeita H0) \n",
      "   ÁRVORE      | RF          -> statistic = 8.251,\tp_value = 0.0041,\tDiferentes distribuições (rejeita H0) \n",
      "   ÁRVORE      | MLP         -> statistic = 0.516,\tp_value = 0.4725,\tMesma distribuição (aceita H0) \n",
      "   ÁRVORE      | COMITÊ MLP  -> statistic = 2.286,\tp_value = 0.1306,\tMesma distribuição (aceita H0) \n",
      "   ÁRVORE      | COMITÊ HET. -> statistic = 2.643,\tp_value = 0.104,\tMesma distribuição (aceita H0) \n",
      "   RF          | MLP         -> statistic = 9.849,\tp_value = 0.0017,\tDiferentes distribuições (rejeita H0) \n",
      "   RF          | COMITÊ MLP  -> statistic = 11.839,\tp_value = 0.0006,\tDiferentes distribuições (rejeita H0) \n",
      "   RF          | COMITÊ HET. -> statistic = 4.977,\tp_value = 0.0257,\tDiferentes distribuições (rejeita H0) \n",
      "   MLP         | COMITÊ MLP  -> statistic = 0.516,\tp_value = 0.4725,\tMesma distribuição (aceita H0) \n",
      "   MLP         | COMITÊ HET. -> statistic = 5.32,\tp_value = 0.0211,\tDiferentes distribuições (rejeita H0) \n",
      "   COMITÊ MLP  | COMITÊ HET. -> statistic = 8.042,\tp_value = 0.0046,\tDiferentes distribuições (rejeita H0) \n"
     ]
    }
   ],
   "source": [
    "alpha = 0.05\n",
    "if p > alpha:\n",
    "    print('\\nMesma distribuição (aceita H0)')\n",
    "else:\n",
    "    print('\\nDiferentes distribuições (rejeita H0)')\n",
    "\n",
    "alg = [\"KNN        \", \"ÁRVORE     \", \"RF         \", \"MLP        \", \"COMITÊ MLP \", \"COMITÊ HET.\"]\n",
    "print(\"\\nCOMPARAÇÃO:\")\n",
    "for i in range(len(results)):\n",
    "    for j in range(i+1, len(results)):\n",
    "        print(f'   {alg[i]} | {alg[j]} -> statistic = {round(stats.kruskal(results[i],results[j]).statistic, 3)},\\tp_value = {round(stats.kruskal(results[i],results[j]).pvalue, 4)},\\t{\"Mesma distribuição (aceita H0)\" if (stats.kruskal(results[i],results[j]).pvalue > alpha) else \"Diferentes distribuições (rejeita H0)\"} ')"
   ]
  },
  {
   "cell_type": "markdown",
   "metadata": {},
   "source": [
    "## Avaliando o Modelo na Base de Teste"
   ]
  },
  {
   "cell_type": "markdown",
   "metadata": {},
   "source": [
    "Treinamento dos modelos no conjunto de treino completo (sem divisão de validação)."
   ]
  },
  {
   "cell_type": "code",
   "execution_count": 68,
   "metadata": {},
   "outputs": [
    {
     "data": {
      "text/plain": [
       "VotingClassifier(estimators=[('KNN', KNeighborsClassifier()),\n",
       "                             ('Tree', DecisionTreeClassifier(max_depth=7)),\n",
       "                             ('RF', RandomForestClassifier()),\n",
       "                             ('MLP',\n",
       "                              MLPClassifier(hidden_layer_sizes=(10, 10)))])"
      ]
     },
     "execution_count": 68,
     "metadata": {},
     "output_type": "execute_result"
    }
   ],
   "source": [
    "knn.fit(X_train, y_train)\n",
    "arvore.fit(X_train, y_train)\n",
    "rf.fit(X_train, y_train)\n",
    "mlp.fit(X_train, y_train)\n",
    "comite_mlp.fit(X_train, y_train)\n",
    "comite_h.fit(X_train, y_train)"
   ]
  },
  {
   "cell_type": "markdown",
   "metadata": {},
   "source": [
    "Predição de cada modelo para a base de teste."
   ]
  },
  {
   "cell_type": "code",
   "execution_count": 69,
   "metadata": {},
   "outputs": [],
   "source": [
    "y_test_prediction_knn = knn.predict(X_test)\n",
    "y_test_prediction_arvore = arvore.predict(X_test)\n",
    "y_test_prediction_rf = rf.predict(X_test)\n",
    "y_test_prediction_mlp = mlp.predict(X_test)\n",
    "y_test_prediction_comite_mlp = comite_mlp.predict(X_test)\n",
    "y_test_prediction_comite_h = comite_h.predict(X_test)"
   ]
  },
  {
   "cell_type": "markdown",
   "metadata": {},
   "source": [
    "# 5. Avaliação"
   ]
  },
  {
   "cell_type": "markdown",
   "metadata": {},
   "source": [
    "## Apresentação de Resultados"
   ]
  },
  {
   "cell_type": "code",
   "execution_count": 103,
   "metadata": {},
   "outputs": [
    {
     "name": "stdout",
     "output_type": "stream",
     "text": [
      "\n",
      "Acurácia KNN: Treinamento 0.8483265205765743  Teste 0.8345310484613967\n",
      "Clasification Report:               precision    recall  f1-score   support\n",
      "\n",
      "           0       0.87      0.92      0.89     12435\n",
      "           1       0.68      0.56      0.61      3846\n",
      "\n",
      "    accuracy                           0.83     16281\n",
      "   macro avg       0.78      0.74      0.75     16281\n",
      "weighted avg       0.83      0.83      0.83     16281\n",
      "\n",
      "Confussion Matrix:\n",
      " [[11442   993]\n",
      " [ 1701  2145]]\n",
      "\n",
      "Acurácia ÁRVORE: Treinamento 0.8708854534837263  Teste 0.8420858669614889\n",
      "Clasification Report:               precision    recall  f1-score   support\n",
      "\n",
      "           0       0.86      0.95      0.90     12435\n",
      "           1       0.75      0.50      0.60      3846\n",
      "\n",
      "    accuracy                           0.84     16281\n",
      "   macro avg       0.80      0.72      0.75     16281\n",
      "weighted avg       0.83      0.84      0.83     16281\n",
      "\n",
      "Confussion Matrix:\n",
      " [[11791   644]\n",
      " [ 1926  1920]]\n",
      "\n",
      "Acurácia RF: Treinamento 0.8802593969941912  Teste 0.860573674835698\n",
      "Clasification Report:               precision    recall  f1-score   support\n",
      "\n",
      "           0       0.88      0.95      0.91     12435\n",
      "           1       0.79      0.56      0.65      3846\n",
      "\n",
      "    accuracy                           0.86     16281\n",
      "   macro avg       0.83      0.76      0.78     16281\n",
      "weighted avg       0.85      0.86      0.85     16281\n",
      "\n",
      "Confussion Matrix:\n",
      " [[11857   578]\n",
      " [ 1692  2154]]\n",
      "\n",
      "Acurácia MLP: Treinamento 0.8629867535421213  Teste 0.8507462686567164\n",
      "Clasification Report:               precision    recall  f1-score   support\n",
      "\n",
      "           0       0.88      0.93      0.91     12435\n",
      "           1       0.73      0.58      0.65      3846\n",
      "\n",
      "    accuracy                           0.85     16281\n",
      "   macro avg       0.81      0.76      0.78     16281\n",
      "weighted avg       0.84      0.85      0.84     16281\n",
      "\n",
      "Confussion Matrix:\n",
      " [[11617   818]\n",
      " [ 1612  2234]]\n",
      "\n",
      "Acurácia COMITÊ MLP: Treinamento 0.8575775271229678  Teste 0.7838584853510226\n",
      "Clasification Report:               precision    recall  f1-score   support\n",
      "\n",
      "           0       0.78      1.00      0.88     12435\n",
      "           1       0.92      0.09      0.17      3846\n",
      "\n",
      "    accuracy                           0.78     16281\n",
      "   macro avg       0.85      0.55      0.52     16281\n",
      "weighted avg       0.81      0.78      0.71     16281\n",
      "\n",
      "Confussion Matrix:\n",
      " [[12406    29]\n",
      " [ 3490   356]]\n",
      "\n",
      "Acurácia COMITÊ HETEROGÊNEO: Treinamento 0.8951655038878815  Teste 0.8434371353110989\n",
      "Clasification Report:               precision    recall  f1-score   support\n",
      "\n",
      "           0       0.85      0.97      0.90     12435\n",
      "           1       0.80      0.45      0.57      3846\n",
      "\n",
      "    accuracy                           0.84     16281\n",
      "   macro avg       0.83      0.71      0.74     16281\n",
      "weighted avg       0.84      0.84      0.83     16281\n",
      "\n",
      "Confussion Matrix:\n",
      " [[12020   415]\n",
      " [ 2134  1712]]\n"
     ]
    },
    {
     "data": {
      "image/png": "[encoded data removed]",
      "text/plain": [
       "<Figure size 432x288 with 1 Axes>"
      ]
     },
     "metadata": {
      "needs_background": "light"
     },
     "output_type": "display_data"
    }
   ],
   "source": [
    "print(\"\\nAcurácia KNN: Treinamento\",  knn.score(X_train, y_train),\" Teste\" ,knn.score(X_test, y_test))\n",
    "print(\"\\nClasification Report:\", classification_report(y_test, y_test_prediction_knn))\n",
    "print(\"Confussion Matrix:\\n\", confusion_matrix(y_test, y_test_prediction_knn))\n",
    "\n",
    "print(\"\\nAcurácia ÁRVORE: Treinamento\",  arvore.score(X_train, y_train),\" Teste\" , arvore.score(X_test, y_test))\n",
    "print(\"\\nClasification Report:\", classification_report(y_test, y_test_prediction_arvore))\n",
    "print(\"Confussion Matrix:\\n\", confusion_matrix(y_test, y_test_prediction_arvore))\n",
    "\n",
    "print(\"\\nAcurácia RF: Treinamento\",  rf.score(X_train, y_train),\" Teste\" ,rf.score(X_test, y_test))\n",
    "print(\"\\nClasification Report:\", classification_report(y_test, y_test_prediction_rf))\n",
    "print(\"Confussion Matrix:\\n\", confusion_matrix(y_test, y_test_prediction_rf))\n",
    "\n",
    "print(\"\\nAcurácia MLP: Treinamento\",  mlp.score(X_train, y_train),\" Teste\" ,mlp.score(X_test, y_test))\n",
    "print(\"\\nClasification Report:\", classification_report(y_test, y_test_prediction_mlp))\n",
    "print(\"Confussion Matrix:\\n\", confusion_matrix(y_test, y_test_prediction_mlp))\n",
    "\n",
    "print(\"\\nAcurácia COMITÊ MLP: Treinamento\",  comite_mlp.score(X_train, y_train),\" Teste\" ,comite_mlp.score(X_test, y_test))\n",
    "print(\"\\nClasification Report:\", classification_report(y_test, y_test_prediction_comite_mlp))\n",
    "print(\"Confussion Matrix:\\n\", confusion_matrix(y_test, y_test_prediction_comite_mlp))\n",
    "\n",
    "print(\"\\nAcurácia COMITÊ HETEROGÊNEO: Treinamento\",  comite_h.score(X_train, y_train),\" Teste\" ,comite_h.score(X_test, y_test))\n",
    "print(\"\\nClasification Report:\", classification_report(y_test, y_test_prediction_comite_h))\n",
    "print(\"Confussion Matrix:\\n\", confusion_matrix(y_test, y_test_prediction_comite_h))\n",
    "\n",
    "fig = plt.figure()\n",
    "fig.suptitle('Algorithm Comparison')\n",
    "ax = fig.add_subplot(111)\n",
    "plt.boxplot(results)\n",
    "ax.set_xticklabels(names)\n",
    "plt.show()"
   ]
  },
  {
   "cell_type": "markdown",
   "metadata": {},
   "source": [
    "### Conclusões"
   ]
  },
  {
   "cell_type": "markdown",
   "metadata": {},
   "source": [
    "Após realizar uma validação cruzada com os parâmetros dos classificadores selecionados chegamos aos seguintes scores:\n",
    "\n",
    "Desempenho médio e desvio padrão dos modelos:\n",
    "- KNN: 0.8382 (0.0045)\n",
    "- Árvore de Decisão: 0.8560 (0.0047)\n",
    "- Random Forest: 0.8646 (0.0056)\n",
    "- MLP: 0.855 (0.0037)\n",
    "- Comitê MLP: 0.8533 (0.0036)\n",
    "- Comitê Heterogêneo: 0.8591 (0.0047)"
   ]
  },
  {
   "cell_type": "markdown",
   "metadata": {},
   "source": [
    "Random Forest > Comitê Heterogêneo > Árvore de Decisão > MLP > Comitê MLP > KNN\n",
    "\n",
    "Levando em conta o desempenho médio na validação cruzada, utilizando 10 folds, percebemos que o classificador Random Forest fornece a maior média de acurácia, seguido do comitê heterogêneo, árvore de decisão, MLP, comitê de MLP e por fim o KNN. De forma geral, o desvio padrão foi similar entre todos os classificadores. \n",
    "\n",
    "Realizamos o teste estatístico de Kruskall-Wallis e obtivemos os seguintes resultados:\n",
    "- Exitem distribuições diferentes entre os classificadores\n",
    "- O algoritmo de árvore de decisão apresentou resultados estatísticamente similares ao do MLP\n",
    "- O algoritmo de árvore de decisão apresentou resultados estatísticamente similares ao do Comitê de MLP\n",
    "- O algoritmo de árvore de decisão apresentou resultados estatísticamente similares ao do Comitê heterogêneo\n",
    "- O algoritmo de MLP apresentou resultados estatísticamente similares ao do Comitê de MLP\n",
    "- Os demais testes par a par apresentaram diferentes distribuições\n",
    "\n",
    "Diante dos resultados encontrados, concluímos que o **Random Forest** apresentou o melhor desempenho dentre os classificadores testados. Essa tendência segue no conjunto de teste, no qual o Random Forest continua sendo o melhor classificador. \n",
    "\n",
    "Além disso, observamos que no conjunto de teste houve um grande número de erros de classificação da classe 1 (>50K). Acreditamos que isso ocorreu devido ao desbalanceamento da dataset utilizado. Sugerimos que para melhores resultados os dados sejam balanceados na fase de pré-processamento."
   ]
  },
  {
   "cell_type": "markdown",
   "metadata": {},
   "source": [
    "# Análise de Features"
   ]
  },
  {
   "cell_type": "code",
   "execution_count": null,
   "metadata": {},
   "outputs": [],
   "source": [
    "feature_names = df.drop(colunas_drop, axis = 1).columns"
   ]
  },
  {
   "cell_type": "code",
   "execution_count": 72,
   "metadata": {},
   "outputs": [],
   "source": [
    "model1 = arvore.fit(X_train, y_train)"
   ]
  },
  {
   "cell_type": "code",
   "execution_count": 78,
   "metadata": {},
   "outputs": [
    {
     "name": "stdout",
     "output_type": "stream",
     "text": [
      "|--- feature_16 <= 0.50\n",
      "|   |--- feature_3 <= 0.07\n",
      "|   |   |--- feature_2 <= 0.77\n",
      "|   |   |   |--- feature_4 <= 0.51\n",
      "|   |   |   |   |--- feature_5 <= 0.40\n",
      "|   |   |   |   |   |--- feature_0 <= 0.23\n",
      "|   |   |   |   |   |   |--- feature_35 <= 0.50\n",
      "|   |   |   |   |   |   |   |--- feature_40 <= 0.50\n",
      "|   |   |   |   |   |   |   |   |--- feature_1 <= 0.01\n",
      "|   |   |   |   |   |   |   |   |   |--- feature_1 <= 0.01\n",
      "|   |   |   |   |   |   |   |   |   |   |--- class: 0\n",
      "|   |   |   |   |   |   |   |   |   |--- feature_1 >  0.01\n",
      "|   |   |   |   |   |   |   |   |   |   |--- class: 1\n",
      "|   |   |   |   |   |   |   |   |--- feature_1 >  0.01\n",
      "|   |   |   |   |   |   |   |   |   |--- feature_0 <= 0.16\n",
      "|   |   |   |   |   |   |   |   |   |   |--- feature_60 <= 0.50\n",
      "|   |   |   |   |   |   |   |   |   |   |   |--- class: 0\n",
      "|   |   |   |   |   |   |   |   |   |   |--- feature_60 >  0.50\n",
      "|   |   |   |   |   |   |   |   |   |   |   |--- class: 0\n",
      "|   |   |   |   |   |   |   |   |   |--- feature_0 >  0.16\n",
      "|   |   |   |   |   |   |   |   |   |   |--- feature_23 <= 0.50\n",
      "|   |   |   |   |   |   |   |   |   |   |   |--- class: 0\n",
      "|   |   |   |   |   |   |   |   |   |   |--- feature_23 >  0.50\n",
      "|   |   |   |   |   |   |   |   |   |   |   |--- class: 0\n",
      "|   |   |   |   |   |   |   |--- feature_40 >  0.50\n",
      "|   |   |   |   |   |   |   |   |--- class: 0\n",
      "|   |   |   |   |   |   |--- feature_35 >  0.50\n",
      "|   |   |   |   |   |   |   |--- class: 0\n",
      "|   |   |   |   |   |--- feature_0 >  0.23\n",
      "|   |   |   |   |   |   |--- feature_30 <= 0.50\n",
      "|   |   |   |   |   |   |   |--- feature_24 <= 0.50\n",
      "|   |   |   |   |   |   |   |   |--- feature_40 <= 0.50\n",
      "|   |   |   |   |   |   |   |   |   |--- feature_66 <= 0.50\n",
      "|   |   |   |   |   |   |   |   |   |   |--- feature_3 <= 0.05\n",
      "|   |   |   |   |   |   |   |   |   |   |   |--- class: 0\n",
      "|   |   |   |   |   |   |   |   |   |   |--- feature_3 >  0.05\n",
      "|   |   |   |   |   |   |   |   |   |   |   |--- class: 0\n",
      "|   |   |   |   |   |   |   |   |   |--- feature_66 >  0.50\n",
      "|   |   |   |   |   |   |   |   |   |   |--- class: 0\n",
      "|   |   |   |   |   |   |   |   |--- feature_40 >  0.50\n",
      "|   |   |   |   |   |   |   |   |   |--- class: 0\n",
      "|   |   |   |   |   |   |   |--- feature_24 >  0.50\n",
      "|   |   |   |   |   |   |   |   |--- feature_3 <= 0.04\n",
      "|   |   |   |   |   |   |   |   |   |--- feature_2 <= 0.63\n",
      "|   |   |   |   |   |   |   |   |   |   |--- feature_1 <= 0.12\n",
      "|   |   |   |   |   |   |   |   |   |   |   |--- class: 0\n",
      "|   |   |   |   |   |   |   |   |   |   |--- feature_1 >  0.12\n",
      "|   |   |   |   |   |   |   |   |   |   |   |--- class: 0\n",
      "|   |   |   |   |   |   |   |   |   |--- feature_2 >  0.63\n",
      "|   |   |   |   |   |   |   |   |   |   |--- feature_0 <= 0.55\n",
      "|   |   |   |   |   |   |   |   |   |   |   |--- class: 0\n",
      "|   |   |   |   |   |   |   |   |   |   |--- feature_0 >  0.55\n",
      "|   |   |   |   |   |   |   |   |   |   |   |--- class: 0\n",
      "|   |   |   |   |   |   |   |   |--- feature_3 >  0.04\n",
      "|   |   |   |   |   |   |   |   |   |--- class: 0\n",
      "|   |   |   |   |   |   |--- feature_30 >  0.50\n",
      "|   |   |   |   |   |   |   |--- feature_46 <= 0.50\n",
      "|   |   |   |   |   |   |   |   |--- feature_3 <= 0.05\n",
      "|   |   |   |   |   |   |   |   |   |--- feature_5 <= 0.36\n",
      "|   |   |   |   |   |   |   |   |   |   |--- feature_0 <= 0.32\n",
      "|   |   |   |   |   |   |   |   |   |   |   |--- class: 0\n",
      "|   |   |   |   |   |   |   |   |   |   |--- feature_0 >  0.32\n",
      "|   |   |   |   |   |   |   |   |   |   |   |--- class: 0\n",
      "|   |   |   |   |   |   |   |   |   |--- feature_5 >  0.36\n",
      "|   |   |   |   |   |   |   |   |   |   |--- feature_1 <= 0.22\n",
      "|   |   |   |   |   |   |   |   |   |   |   |--- class: 0\n",
      "|   |   |   |   |   |   |   |   |   |   |--- feature_1 >  0.22\n",
      "|   |   |   |   |   |   |   |   |   |   |   |--- class: 0\n",
      "|   |   |   |   |   |   |   |   |--- feature_3 >  0.05\n",
      "|   |   |   |   |   |   |   |   |   |--- class: 1\n",
      "|   |   |   |   |   |   |   |--- feature_46 >  0.50\n",
      "|   |   |   |   |   |   |   |   |--- feature_6 <= 0.50\n",
      "|   |   |   |   |   |   |   |   |   |--- feature_4 <= 0.34\n",
      "|   |   |   |   |   |   |   |   |   |   |--- feature_14 <= 0.50\n",
      "|   |   |   |   |   |   |   |   |   |   |   |--- class: 0\n",
      "|   |   |   |   |   |   |   |   |   |   |--- feature_14 >  0.50\n",
      "|   |   |   |   |   |   |   |   |   |   |   |--- class: 0\n",
      "|   |   |   |   |   |   |   |   |   |--- feature_4 >  0.34\n",
      "|   |   |   |   |   |   |   |   |   |   |--- class: 0\n",
      "|   |   |   |   |   |   |   |   |--- feature_6 >  0.50\n",
      "|   |   |   |   |   |   |   |   |   |--- class: 0\n",
      "|   |   |   |   |--- feature_5 >  0.40\n",
      "|   |   |   |   |   |--- feature_0 <= 0.29\n",
      "|   |   |   |   |   |   |--- feature_0 <= 0.12\n",
      "|   |   |   |   |   |   |   |--- feature_79 <= 0.50\n",
      "|   |   |   |   |   |   |   |   |--- feature_12 <= 0.50\n",
      "|   |   |   |   |   |   |   |   |   |--- feature_30 <= 0.50\n",
      "|   |   |   |   |   |   |   |   |   |   |--- feature_2 <= 0.23\n",
      "|   |   |   |   |   |   |   |   |   |   |   |--- class: 0\n",
      "|   |   |   |   |   |   |   |   |   |   |--- feature_2 >  0.23\n",
      "|   |   |   |   |   |   |   |   |   |   |   |--- class: 0\n",
      "|   |   |   |   |   |   |   |   |   |--- feature_30 >  0.50\n",
      "|   |   |   |   |   |   |   |   |   |   |--- feature_2 <= 0.67\n",
      "|   |   |   |   |   |   |   |   |   |   |   |--- class: 0\n",
      "|   |   |   |   |   |   |   |   |   |   |--- feature_2 >  0.67\n",
      "|   |   |   |   |   |   |   |   |   |   |   |--- class: 0\n",
      "|   |   |   |   |   |   |   |   |--- feature_12 >  0.50\n",
      "|   |   |   |   |   |   |   |   |   |--- class: 0\n",
      "|   |   |   |   |   |   |   |--- feature_79 >  0.50\n",
      "|   |   |   |   |   |   |   |   |--- class: 0\n",
      "|   |   |   |   |   |   |--- feature_0 >  0.12\n",
      "|   |   |   |   |   |   |   |--- feature_9 <= 0.50\n",
      "|   |   |   |   |   |   |   |   |--- feature_1 <= 0.22\n",
      "|   |   |   |   |   |   |   |   |   |--- feature_31 <= 0.50\n",
      "|   |   |   |   |   |   |   |   |   |   |--- feature_24 <= 0.50\n",
      "|   |   |   |   |   |   |   |   |   |   |   |--- class: 0\n",
      "|   |   |   |   |   |   |   |   |   |   |--- feature_24 >  0.50\n",
      "|   |   |   |   |   |   |   |   |   |   |   |--- class: 0\n",
      "|   |   |   |   |   |   |   |   |   |--- feature_31 >  0.50\n",
      "|   |   |   |   |   |   |   |   |   |   |--- feature_36 <= 0.50\n",
      "|   |   |   |   |   |   |   |   |   |   |   |--- class: 0\n",
      "|   |   |   |   |   |   |   |   |   |   |--- feature_36 >  0.50\n",
      "|   |   |   |   |   |   |   |   |   |   |   |--- class: 0\n",
      "|   |   |   |   |   |   |   |   |--- feature_1 >  0.22\n",
      "|   |   |   |   |   |   |   |   |   |--- feature_42 <= 0.50\n",
      "|   |   |   |   |   |   |   |   |   |   |--- feature_11 <= 0.50\n",
      "|   |   |   |   |   |   |   |   |   |   |   |--- class: 0\n",
      "|   |   |   |   |   |   |   |   |   |   |--- feature_11 >  0.50\n",
      "|   |   |   |   |   |   |   |   |   |   |   |--- class: 0\n",
      "|   |   |   |   |   |   |   |   |   |--- feature_42 >  0.50\n",
      "|   |   |   |   |   |   |   |   |   |   |--- class: 1\n",
      "|   |   |   |   |   |   |   |--- feature_9 >  0.50\n",
      "|   |   |   |   |   |   |   |   |--- feature_2 <= 0.63\n",
      "|   |   |   |   |   |   |   |   |   |--- feature_1 <= 0.31\n",
      "|   |   |   |   |   |   |   |   |   |   |--- feature_1 <= 0.01\n",
      "|   |   |   |   |   |   |   |   |   |   |   |--- class: 0\n",
      "|   |   |   |   |   |   |   |   |   |   |--- feature_1 >  0.01\n",
      "|   |   |   |   |   |   |   |   |   |   |   |--- class: 0\n",
      "|   |   |   |   |   |   |   |   |   |--- feature_1 >  0.31\n",
      "|   |   |   |   |   |   |   |   |   |   |--- class: 0\n",
      "|   |   |   |   |   |   |   |   |--- feature_2 >  0.63\n",
      "|   |   |   |   |   |   |   |   |   |--- feature_47 <= 0.50\n",
      "|   |   |   |   |   |   |   |   |   |   |--- feature_5 <= 0.73\n",
      "|   |   |   |   |   |   |   |   |   |   |   |--- class: 0\n",
      "|   |   |   |   |   |   |   |   |   |   |--- feature_5 >  0.73\n",
      "|   |   |   |   |   |   |   |   |   |   |   |--- class: 0\n",
      "|   |   |   |   |   |   |   |   |   |--- feature_47 >  0.50\n",
      "|   |   |   |   |   |   |   |   |   |   |--- feature_18 <= 0.50\n",
      "|   |   |   |   |   |   |   |   |   |   |   |--- class: 0\n",
      "|   |   |   |   |   |   |   |   |   |   |--- feature_18 >  0.50\n",
      "|   |   |   |   |   |   |   |   |   |   |   |--- class: 0\n",
      "|   |   |   |   |   |--- feature_0 >  0.29\n",
      "|   |   |   |   |   |   |--- feature_3 <= 0.05\n",
      "|   |   |   |   |   |   |   |--- feature_46 <= 0.50\n",
      "|   |   |   |   |   |   |   |   |--- feature_1 <= 0.24\n",
      "|   |   |   |   |   |   |   |   |   |--- feature_18 <= 0.50\n",
      "|   |   |   |   |   |   |   |   |   |   |--- feature_33 <= 0.50\n",
      "|   |   |   |   |   |   |   |   |   |   |   |--- class: 0\n",
      "|   |   |   |   |   |   |   |   |   |   |--- feature_33 >  0.50\n",
      "|   |   |   |   |   |   |   |   |   |   |   |--- class: 1\n",
      "|   |   |   |   |   |   |   |   |   |--- feature_18 >  0.50\n",
      "|   |   |   |   |   |   |   |   |   |   |--- feature_4 <= 0.35\n",
      "|   |   |   |   |   |   |   |   |   |   |   |--- class: 0\n",
      "|   |   |   |   |   |   |   |   |   |   |--- feature_4 >  0.35\n",
      "|   |   |   |   |   |   |   |   |   |   |   |--- class: 0\n",
      "|   |   |   |   |   |   |   |   |--- feature_1 >  0.24\n",
      "|   |   |   |   |   |   |   |   |   |--- feature_9 <= 0.50\n",
      "|   |   |   |   |   |   |   |   |   |   |--- class: 1\n",
      "|   |   |   |   |   |   |   |   |   |--- feature_9 >  0.50\n",
      "|   |   |   |   |   |   |   |   |   |   |--- feature_1 <= 0.26\n",
      "|   |   |   |   |   |   |   |   |   |   |   |--- class: 0\n",
      "|   |   |   |   |   |   |   |   |   |   |--- feature_1 >  0.26\n",
      "|   |   |   |   |   |   |   |   |   |   |   |--- class: 0\n",
      "|   |   |   |   |   |   |   |--- feature_46 >  0.50\n",
      "|   |   |   |   |   |   |   |   |--- feature_33 <= 0.50\n",
      "|   |   |   |   |   |   |   |   |   |--- feature_31 <= 0.50\n",
      "|   |   |   |   |   |   |   |   |   |   |--- feature_2 <= 0.57\n",
      "|   |   |   |   |   |   |   |   |   |   |   |--- class: 0\n",
      "|   |   |   |   |   |   |   |   |   |   |--- feature_2 >  0.57\n",
      "|   |   |   |   |   |   |   |   |   |   |   |--- class: 0\n",
      "|   |   |   |   |   |   |   |   |   |--- feature_31 >  0.50\n",
      "|   |   |   |   |   |   |   |   |   |   |--- class: 0\n",
      "|   |   |   |   |   |   |   |   |--- feature_33 >  0.50\n",
      "|   |   |   |   |   |   |   |   |   |--- class: 0\n",
      "|   |   |   |   |   |   |--- feature_3 >  0.05\n",
      "|   |   |   |   |   |   |   |--- class: 1\n",
      "|   |   |   |--- feature_4 >  0.51\n",
      "|   |   |   |   |--- feature_1 <= 0.08\n",
      "|   |   |   |   |   |--- feature_0 <= 0.59\n",
      "|   |   |   |   |   |   |--- feature_19 <= 0.50\n",
      "|   |   |   |   |   |   |   |--- class: 1\n",
      "|   |   |   |   |   |   |--- feature_19 >  0.50\n",
      "|   |   |   |   |   |   |   |--- class: 1\n",
      "|   |   |   |   |   |--- feature_0 >  0.59\n",
      "|   |   |   |   |   |   |--- class: 0\n",
      "|   |   |   |   |--- feature_1 >  0.08\n",
      "|   |   |   |   |   |--- feature_4 <= 0.55\n",
      "|   |   |   |   |   |   |--- feature_14 <= 0.50\n",
      "|   |   |   |   |   |   |   |--- feature_23 <= 0.50\n",
      "|   |   |   |   |   |   |   |   |--- class: 0\n",
      "|   |   |   |   |   |   |   |--- feature_23 >  0.50\n",
      "|   |   |   |   |   |   |   |   |--- class: 0\n",
      "|   |   |   |   |   |   |--- feature_14 >  0.50\n",
      "|   |   |   |   |   |   |   |--- class: 0\n",
      "|   |   |   |   |   |--- feature_4 >  0.55\n",
      "|   |   |   |   |   |   |--- feature_4 <= 0.75\n",
      "|   |   |   |   |   |   |   |--- class: 1\n",
      "|   |   |   |   |   |   |--- feature_4 >  0.75\n",
      "|   |   |   |   |   |   |   |--- class: 0\n",
      "|   |   |--- feature_2 >  0.77\n",
      "|   |   |   |--- feature_5 <= 0.43\n",
      "|   |   |   |   |--- feature_0 <= 0.23\n",
      "|   |   |   |   |   |--- feature_40 <= 0.50\n",
      "|   |   |   |   |   |   |--- feature_4 <= 0.49\n",
      "|   |   |   |   |   |   |   |--- feature_0 <= 0.17\n",
      "|   |   |   |   |   |   |   |   |--- feature_19 <= 0.50\n",
      "|   |   |   |   |   |   |   |   |   |--- feature_1 <= 0.02\n",
      "|   |   |   |   |   |   |   |   |   |   |--- feature_1 <= 0.02\n",
      "|   |   |   |   |   |   |   |   |   |   |   |--- class: 0\n",
      "|   |   |   |   |   |   |   |   |   |   |--- feature_1 >  0.02\n",
      "|   |   |   |   |   |   |   |   |   |   |   |--- class: 0\n",
      "|   |   |   |   |   |   |   |   |   |--- feature_1 >  0.02\n",
      "|   |   |   |   |   |   |   |   |   |   |--- feature_4 <= 0.34\n",
      "|   |   |   |   |   |   |   |   |   |   |   |--- class: 0\n",
      "|   |   |   |   |   |   |   |   |   |   |--- feature_4 >  0.34\n",
      "|   |   |   |   |   |   |   |   |   |   |   |--- class: 0\n",
      "|   |   |   |   |   |   |   |   |--- feature_19 >  0.50\n",
      "|   |   |   |   |   |   |   |   |   |--- class: 0\n",
      "|   |   |   |   |   |   |   |--- feature_0 >  0.17\n",
      "|   |   |   |   |   |   |   |   |--- feature_46 <= 0.50\n",
      "|   |   |   |   |   |   |   |   |   |--- feature_32 <= 0.50\n",
      "|   |   |   |   |   |   |   |   |   |   |--- feature_2 <= 0.90\n",
      "|   |   |   |   |   |   |   |   |   |   |   |--- class: 0\n",
      "|   |   |   |   |   |   |   |   |   |   |--- feature_2 >  0.90\n",
      "|   |   |   |   |   |   |   |   |   |   |   |--- class: 0\n",
      "|   |   |   |   |   |   |   |   |   |--- feature_32 >  0.50\n",
      "|   |   |   |   |   |   |   |   |   |   |--- class: 0\n",
      "|   |   |   |   |   |   |   |   |--- feature_46 >  0.50\n",
      "|   |   |   |   |   |   |   |   |   |--- feature_33 <= 0.50\n",
      "|   |   |   |   |   |   |   |   |   |   |--- class: 0\n",
      "|   |   |   |   |   |   |   |   |   |--- feature_33 >  0.50\n",
      "|   |   |   |   |   |   |   |   |   |   |--- class: 0\n",
      "|   |   |   |   |   |   |--- feature_4 >  0.49\n",
      "|   |   |   |   |   |   |   |--- class: 0\n",
      "|   |   |   |   |   |--- feature_40 >  0.50\n",
      "|   |   |   |   |   |   |--- class: 1\n",
      "|   |   |   |   |--- feature_0 >  0.23\n",
      "|   |   |   |   |   |--- feature_4 <= 0.54\n",
      "|   |   |   |   |   |   |--- feature_2 <= 0.90\n",
      "|   |   |   |   |   |   |   |--- feature_3 <= 0.05\n",
      "|   |   |   |   |   |   |   |   |--- feature_0 <= 0.40\n",
      "|   |   |   |   |   |   |   |   |   |--- feature_36 <= 0.50\n",
      "|   |   |   |   |   |   |   |   |   |   |--- feature_32 <= 0.50\n",
      "|   |   |   |   |   |   |   |   |   |   |   |--- class: 0\n",
      "|   |   |   |   |   |   |   |   |   |   |--- feature_32 >  0.50\n",
      "|   |   |   |   |   |   |   |   |   |   |   |--- class: 0\n",
      "|   |   |   |   |   |   |   |   |   |--- feature_36 >  0.50\n",
      "|   |   |   |   |   |   |   |   |   |   |--- feature_5 <= 0.37\n",
      "|   |   |   |   |   |   |   |   |   |   |   |--- class: 0\n",
      "|   |   |   |   |   |   |   |   |   |   |--- feature_5 >  0.37\n",
      "|   |   |   |   |   |   |   |   |   |   |   |--- class: 0\n",
      "|   |   |   |   |   |   |   |   |--- feature_0 >  0.40\n",
      "|   |   |   |   |   |   |   |   |   |--- feature_5 <= 0.31\n",
      "|   |   |   |   |   |   |   |   |   |   |--- feature_1 <= 0.06\n",
      "|   |   |   |   |   |   |   |   |   |   |   |--- class: 0\n",
      "|   |   |   |   |   |   |   |   |   |   |--- feature_1 >  0.06\n",
      "|   |   |   |   |   |   |   |   |   |   |   |--- class: 0\n",
      "|   |   |   |   |   |   |   |   |   |--- feature_5 >  0.31\n",
      "|   |   |   |   |   |   |   |   |   |   |--- feature_0 <= 0.43\n",
      "|   |   |   |   |   |   |   |   |   |   |   |--- class: 0\n",
      "|   |   |   |   |   |   |   |   |   |   |--- feature_0 >  0.43\n",
      "|   |   |   |   |   |   |   |   |   |   |   |--- class: 0\n",
      "|   |   |   |   |   |   |   |--- feature_3 >  0.05\n",
      "|   |   |   |   |   |   |   |   |--- feature_3 <= 0.05\n",
      "|   |   |   |   |   |   |   |   |   |--- class: 1\n",
      "|   |   |   |   |   |   |   |   |--- feature_3 >  0.05\n",
      "|   |   |   |   |   |   |   |   |   |--- class: 0\n",
      "|   |   |   |   |   |   |--- feature_2 >  0.90\n",
      "|   |   |   |   |   |   |   |--- feature_46 <= 0.50\n",
      "|   |   |   |   |   |   |   |   |--- feature_14 <= 0.50\n",
      "|   |   |   |   |   |   |   |   |   |--- feature_1 <= 0.06\n",
      "|   |   |   |   |   |   |   |   |   |   |--- class: 0\n",
      "|   |   |   |   |   |   |   |   |   |--- feature_1 >  0.06\n",
      "|   |   |   |   |   |   |   |   |   |   |--- feature_5 <= 0.16\n",
      "|   |   |   |   |   |   |   |   |   |   |   |--- class: 0\n",
      "|   |   |   |   |   |   |   |   |   |   |--- feature_5 >  0.16\n",
      "|   |   |   |   |   |   |   |   |   |   |   |--- class: 1\n",
      "|   |   |   |   |   |   |   |   |--- feature_14 >  0.50\n",
      "|   |   |   |   |   |   |   |   |   |--- class: 0\n",
      "|   |   |   |   |   |   |   |--- feature_46 >  0.50\n",
      "|   |   |   |   |   |   |   |   |--- feature_6 <= 0.50\n",
      "|   |   |   |   |   |   |   |   |   |--- feature_12 <= 0.50\n",
      "|   |   |   |   |   |   |   |   |   |   |--- feature_27 <= 0.50\n",
      "|   |   |   |   |   |   |   |   |   |   |   |--- class: 0\n",
      "|   |   |   |   |   |   |   |   |   |   |--- feature_27 >  0.50\n",
      "|   |   |   |   |   |   |   |   |   |   |   |--- class: 0\n",
      "|   |   |   |   |   |   |   |   |   |--- feature_12 >  0.50\n",
      "|   |   |   |   |   |   |   |   |   |   |--- class: 0\n",
      "|   |   |   |   |   |   |   |   |--- feature_6 >  0.50\n",
      "|   |   |   |   |   |   |   |   |   |--- class: 1\n",
      "|   |   |   |   |   |--- feature_4 >  0.54\n",
      "|   |   |   |   |   |   |--- class: 1\n",
      "|   |   |   |--- feature_5 >  0.43\n",
      "|   |   |   |   |--- feature_0 <= 0.14\n",
      "|   |   |   |   |   |--- feature_4 <= 0.49\n",
      "|   |   |   |   |   |   |--- feature_5 <= 0.63\n",
      "|   |   |   |   |   |   |   |--- feature_10 <= 0.50\n",
      "|   |   |   |   |   |   |   |   |--- feature_23 <= 0.50\n",
      "|   |   |   |   |   |   |   |   |   |--- feature_5 <= 0.54\n",
      "|   |   |   |   |   |   |   |   |   |   |--- class: 0\n",
      "|   |   |   |   |   |   |   |   |   |--- feature_5 >  0.54\n",
      "|   |   |   |   |   |   |   |   |   |   |--- feature_33 <= 0.50\n",
      "|   |   |   |   |   |   |   |   |   |   |   |--- class: 0\n",
      "|   |   |   |   |   |   |   |   |   |   |--- feature_33 >  0.50\n",
      "|   |   |   |   |   |   |   |   |   |   |   |--- class: 0\n",
      "|   |   |   |   |   |   |   |   |--- feature_23 >  0.50\n",
      "|   |   |   |   |   |   |   |   |   |--- class: 0\n",
      "|   |   |   |   |   |   |   |--- feature_10 >  0.50\n",
      "|   |   |   |   |   |   |   |   |--- class: 0\n",
      "|   |   |   |   |   |   |--- feature_5 >  0.63\n",
      "|   |   |   |   |   |   |   |--- feature_0 <= 0.12\n",
      "|   |   |   |   |   |   |   |   |--- class: 0\n",
      "|   |   |   |   |   |   |   |--- feature_0 >  0.12\n",
      "|   |   |   |   |   |   |   |   |--- class: 0\n",
      "|   |   |   |   |   |--- feature_4 >  0.49\n",
      "|   |   |   |   |   |   |--- class: 0\n",
      "|   |   |   |   |--- feature_0 >  0.14\n",
      "|   |   |   |   |   |--- feature_4 <= 0.55\n",
      "|   |   |   |   |   |   |--- feature_24 <= 0.50\n",
      "|   |   |   |   |   |   |   |--- feature_2 <= 0.90\n",
      "|   |   |   |   |   |   |   |   |--- feature_47 <= 0.50\n",
      "|   |   |   |   |   |   |   |   |   |--- feature_1 <= 0.23\n",
      "|   |   |   |   |   |   |   |   |   |   |--- feature_1 <= 0.10\n",
      "|   |   |   |   |   |   |   |   |   |   |   |--- class: 0\n",
      "|   |   |   |   |   |   |   |   |   |   |--- feature_1 >  0.10\n",
      "|   |   |   |   |   |   |   |   |   |   |   |--- class: 0\n",
      "|   |   |   |   |   |   |   |   |   |--- feature_1 >  0.23\n",
      "|   |   |   |   |   |   |   |   |   |   |--- class: 0\n",
      "|   |   |   |   |   |   |   |   |--- feature_47 >  0.50\n",
      "|   |   |   |   |   |   |   |   |   |--- feature_0 <= 0.35\n",
      "|   |   |   |   |   |   |   |   |   |   |--- feature_12 <= 0.50\n",
      "|   |   |   |   |   |   |   |   |   |   |   |--- class: 0\n",
      "|   |   |   |   |   |   |   |   |   |   |--- feature_12 >  0.50\n",
      "|   |   |   |   |   |   |   |   |   |   |   |--- class: 0\n",
      "|   |   |   |   |   |   |   |   |   |--- feature_0 >  0.35\n",
      "|   |   |   |   |   |   |   |   |   |   |--- feature_0 <= 0.50\n",
      "|   |   |   |   |   |   |   |   |   |   |   |--- class: 0\n",
      "|   |   |   |   |   |   |   |   |   |   |--- feature_0 >  0.50\n",
      "|   |   |   |   |   |   |   |   |   |   |   |--- class: 0\n",
      "|   |   |   |   |   |   |   |--- feature_2 >  0.90\n",
      "|   |   |   |   |   |   |   |   |--- feature_0 <= 0.21\n",
      "|   |   |   |   |   |   |   |   |   |--- feature_86 <= 0.50\n",
      "|   |   |   |   |   |   |   |   |   |   |--- class: 1\n",
      "|   |   |   |   |   |   |   |   |   |--- feature_86 >  0.50\n",
      "|   |   |   |   |   |   |   |   |   |   |--- feature_18 <= 0.50\n",
      "|   |   |   |   |   |   |   |   |   |   |   |--- class: 0\n",
      "|   |   |   |   |   |   |   |   |   |   |--- feature_18 >  0.50\n",
      "|   |   |   |   |   |   |   |   |   |   |   |--- class: 0\n",
      "|   |   |   |   |   |   |   |   |--- feature_0 >  0.21\n",
      "|   |   |   |   |   |   |   |   |   |--- feature_5 <= 0.90\n",
      "|   |   |   |   |   |   |   |   |   |   |--- feature_1 <= 0.02\n",
      "|   |   |   |   |   |   |   |   |   |   |   |--- class: 0\n",
      "|   |   |   |   |   |   |   |   |   |   |--- feature_1 >  0.02\n",
      "|   |   |   |   |   |   |   |   |   |   |   |--- class: 1\n",
      "|   |   |   |   |   |   |   |   |   |--- feature_5 >  0.90\n",
      "|   |   |   |   |   |   |   |   |   |   |--- class: 0\n",
      "|   |   |   |   |   |   |--- feature_24 >  0.50\n",
      "|   |   |   |   |   |   |   |--- feature_0 <= 0.31\n",
      "|   |   |   |   |   |   |   |   |--- feature_1 <= 0.12\n",
      "|   |   |   |   |   |   |   |   |   |--- feature_14 <= 0.50\n",
      "|   |   |   |   |   |   |   |   |   |   |--- feature_45 <= 0.50\n",
      "|   |   |   |   |   |   |   |   |   |   |   |--- class: 0\n",
      "|   |   |   |   |   |   |   |   |   |   |--- feature_45 >  0.50\n",
      "|   |   |   |   |   |   |   |   |   |   |   |--- class: 0\n",
      "|   |   |   |   |   |   |   |   |   |--- feature_14 >  0.50\n",
      "|   |   |   |   |   |   |   |   |   |   |--- feature_1 <= 0.02\n",
      "|   |   |   |   |   |   |   |   |   |   |   |--- class: 0\n",
      "|   |   |   |   |   |   |   |   |   |   |--- feature_1 >  0.02\n",
      "|   |   |   |   |   |   |   |   |   |   |   |--- class: 1\n",
      "|   |   |   |   |   |   |   |   |--- feature_1 >  0.12\n",
      "|   |   |   |   |   |   |   |   |   |--- feature_1 <= 0.38\n",
      "|   |   |   |   |   |   |   |   |   |   |--- feature_19 <= 0.50\n",
      "|   |   |   |   |   |   |   |   |   |   |   |--- class: 0\n",
      "|   |   |   |   |   |   |   |   |   |   |--- feature_19 >  0.50\n",
      "|   |   |   |   |   |   |   |   |   |   |   |--- class: 1\n",
      "|   |   |   |   |   |   |   |   |   |--- feature_1 >  0.38\n",
      "|   |   |   |   |   |   |   |   |   |   |--- class: 1\n",
      "|   |   |   |   |   |   |   |--- feature_0 >  0.31\n",
      "|   |   |   |   |   |   |   |   |--- feature_11 <= 0.50\n",
      "|   |   |   |   |   |   |   |   |   |--- feature_2 <= 0.90\n",
      "|   |   |   |   |   |   |   |   |   |   |--- feature_1 <= 0.07\n",
      "|   |   |   |   |   |   |   |   |   |   |   |--- class: 0\n",
      "|   |   |   |   |   |   |   |   |   |   |--- feature_1 >  0.07\n",
      "|   |   |   |   |   |   |   |   |   |   |   |--- class: 1\n",
      "|   |   |   |   |   |   |   |   |   |--- feature_2 >  0.90\n",
      "|   |   |   |   |   |   |   |   |   |   |--- class: 1\n",
      "|   |   |   |   |   |   |   |   |--- feature_11 >  0.50\n",
      "|   |   |   |   |   |   |   |   |   |--- class: 0\n",
      "|   |   |   |   |   |--- feature_4 >  0.55\n",
      "|   |   |   |   |   |   |--- class: 1\n",
      "|   |--- feature_3 >  0.07\n",
      "|   |   |--- feature_0 <= 0.05\n",
      "|   |   |   |--- class: 0\n",
      "|   |   |--- feature_0 >  0.05\n",
      "|   |   |   |--- feature_1 <= 0.01\n",
      "|   |   |   |   |--- class: 0\n",
      "|   |   |   |--- feature_1 >  0.01\n",
      "|   |   |   |   |--- feature_3 <= 0.08\n",
      "|   |   |   |   |   |--- feature_5 <= 0.35\n",
      "|   |   |   |   |   |   |--- class: 0\n",
      "|   |   |   |   |   |--- feature_5 >  0.35\n",
      "|   |   |   |   |   |   |--- class: 1\n",
      "|   |   |   |   |--- feature_3 >  0.08\n",
      "|   |   |   |   |   |--- feature_3 <= 0.31\n",
      "|   |   |   |   |   |   |--- class: 1\n",
      "|   |   |   |   |   |--- feature_3 >  0.31\n",
      "|   |   |   |   |   |   |--- feature_0 <= 0.49\n",
      "|   |   |   |   |   |   |   |--- class: 1\n",
      "|   |   |   |   |   |   |--- feature_0 >  0.49\n",
      "|   |   |   |   |   |   |   |--- class: 1\n",
      "|--- feature_16 >  0.50\n",
      "|   |--- feature_2 <= 0.77\n",
      "|   |   |--- feature_3 <= 0.05\n",
      "|   |   |   |--- feature_2 <= 0.50\n",
      "|   |   |   |   |--- feature_4 <= 0.41\n",
      "|   |   |   |   |   |--- feature_0 <= 0.27\n",
      "|   |   |   |   |   |   |--- feature_33 <= 0.50\n",
      "|   |   |   |   |   |   |   |--- feature_5 <= 0.49\n",
      "|   |   |   |   |   |   |   |   |--- feature_72 <= 0.50\n",
      "|   |   |   |   |   |   |   |   |   |--- feature_58 <= 0.50\n",
      "|   |   |   |   |   |   |   |   |   |   |--- feature_2 <= 0.43\n",
      "|   |   |   |   |   |   |   |   |   |   |   |--- class: 0\n",
      "|   |   |   |   |   |   |   |   |   |   |--- feature_2 >  0.43\n",
      "|   |   |   |   |   |   |   |   |   |   |   |--- class: 0\n",
      "|   |   |   |   |   |   |   |   |   |--- feature_58 >  0.50\n",
      "|   |   |   |   |   |   |   |   |   |   |--- class: 0\n",
      "|   |   |   |   |   |   |   |   |--- feature_72 >  0.50\n",
      "|   |   |   |   |   |   |   |   |   |--- class: 0\n",
      "|   |   |   |   |   |   |   |--- feature_5 >  0.49\n",
      "|   |   |   |   |   |   |   |   |--- feature_10 <= 0.50\n",
      "|   |   |   |   |   |   |   |   |   |--- feature_1 <= 0.01\n",
      "|   |   |   |   |   |   |   |   |   |   |--- class: 0\n",
      "|   |   |   |   |   |   |   |   |   |--- feature_1 >  0.01\n",
      "|   |   |   |   |   |   |   |   |   |   |--- feature_1 <= 0.15\n",
      "|   |   |   |   |   |   |   |   |   |   |   |--- class: 0\n",
      "|   |   |   |   |   |   |   |   |   |   |--- feature_1 >  0.15\n",
      "|   |   |   |   |   |   |   |   |   |   |   |--- class: 0\n",
      "|   |   |   |   |   |   |   |   |--- feature_10 >  0.50\n",
      "|   |   |   |   |   |   |   |   |   |--- class: 0\n",
      "|   |   |   |   |   |   |--- feature_33 >  0.50\n",
      "|   |   |   |   |   |   |   |--- class: 0\n",
      "|   |   |   |   |   |--- feature_0 >  0.27\n",
      "|   |   |   |   |   |   |--- feature_2 <= 0.30\n",
      "|   |   |   |   |   |   |   |--- feature_5 <= 0.49\n",
      "|   |   |   |   |   |   |   |   |--- feature_10 <= 0.50\n",
      "|   |   |   |   |   |   |   |   |   |--- feature_1 <= 0.01\n",
      "|   |   |   |   |   |   |   |   |   |   |--- class: 0\n",
      "|   |   |   |   |   |   |   |   |   |--- feature_1 >  0.01\n",
      "|   |   |   |   |   |   |   |   |   |   |--- feature_24 <= 0.50\n",
      "|   |   |   |   |   |   |   |   |   |   |   |--- class: 0\n",
      "|   |   |   |   |   |   |   |   |   |   |--- feature_24 >  0.50\n",
      "|   |   |   |   |   |   |   |   |   |   |   |--- class: 0\n",
      "|   |   |   |   |   |   |   |   |--- feature_10 >  0.50\n",
      "|   |   |   |   |   |   |   |   |   |--- class: 0\n",
      "|   |   |   |   |   |   |   |--- feature_5 >  0.49\n",
      "|   |   |   |   |   |   |   |   |--- feature_0 <= 0.64\n",
      "|   |   |   |   |   |   |   |   |   |--- feature_28 <= 0.50\n",
      "|   |   |   |   |   |   |   |   |   |   |--- feature_0 <= 0.62\n",
      "|   |   |   |   |   |   |   |   |   |   |   |--- class: 0\n",
      "|   |   |   |   |   |   |   |   |   |   |--- feature_0 >  0.62\n",
      "|   |   |   |   |   |   |   |   |   |   |   |--- class: 1\n",
      "|   |   |   |   |   |   |   |   |   |--- feature_28 >  0.50\n",
      "|   |   |   |   |   |   |   |   |   |   |--- class: 0\n",
      "|   |   |   |   |   |   |   |   |--- feature_0 >  0.64\n",
      "|   |   |   |   |   |   |   |   |   |--- class: 0\n",
      "|   |   |   |   |   |   |--- feature_2 >  0.30\n",
      "|   |   |   |   |   |   |   |--- feature_0 <= 0.66\n",
      "|   |   |   |   |   |   |   |   |--- feature_1 <= 0.24\n",
      "|   |   |   |   |   |   |   |   |   |--- feature_1 <= 0.13\n",
      "|   |   |   |   |   |   |   |   |   |   |--- feature_1 <= 0.13\n",
      "|   |   |   |   |   |   |   |   |   |   |   |--- class: 0\n",
      "|   |   |   |   |   |   |   |   |   |   |--- feature_1 >  0.13\n",
      "|   |   |   |   |   |   |   |   |   |   |   |--- class: 1\n",
      "|   |   |   |   |   |   |   |   |   |--- feature_1 >  0.13\n",
      "|   |   |   |   |   |   |   |   |   |   |--- feature_2 <= 0.43\n",
      "|   |   |   |   |   |   |   |   |   |   |   |--- class: 0\n",
      "|   |   |   |   |   |   |   |   |   |   |--- feature_2 >  0.43\n",
      "|   |   |   |   |   |   |   |   |   |   |   |--- class: 0\n",
      "|   |   |   |   |   |   |   |   |--- feature_1 >  0.24\n",
      "|   |   |   |   |   |   |   |   |   |--- feature_1 <= 0.29\n",
      "|   |   |   |   |   |   |   |   |   |   |--- class: 1\n",
      "|   |   |   |   |   |   |   |   |   |--- feature_1 >  0.29\n",
      "|   |   |   |   |   |   |   |   |   |   |--- class: 0\n",
      "|   |   |   |   |   |   |   |--- feature_0 >  0.66\n",
      "|   |   |   |   |   |   |   |   |--- class: 0\n",
      "|   |   |   |   |--- feature_4 >  0.41\n",
      "|   |   |   |   |   |--- feature_4 <= 0.46\n",
      "|   |   |   |   |   |   |--- feature_34 <= 0.50\n",
      "|   |   |   |   |   |   |   |--- class: 1\n",
      "|   |   |   |   |   |   |--- feature_34 >  0.50\n",
      "|   |   |   |   |   |   |   |--- class: 1\n",
      "|   |   |   |   |   |--- feature_4 >  0.46\n",
      "|   |   |   |   |   |   |--- class: 0\n",
      "|   |   |   |--- feature_2 >  0.50\n",
      "|   |   |   |   |--- feature_4 <= 0.41\n",
      "|   |   |   |   |   |--- feature_0 <= 0.25\n",
      "|   |   |   |   |   |   |--- feature_0 <= 0.17\n",
      "|   |   |   |   |   |   |   |--- feature_0 <= 0.10\n",
      "|   |   |   |   |   |   |   |   |--- feature_34 <= 0.50\n",
      "|   |   |   |   |   |   |   |   |   |--- feature_5 <= 0.71\n",
      "|   |   |   |   |   |   |   |   |   |   |--- feature_3 <= 0.04\n",
      "|   |   |   |   |   |   |   |   |   |   |   |--- class: 0\n",
      "|   |   |   |   |   |   |   |   |   |   |--- feature_3 >  0.04\n",
      "|   |   |   |   |   |   |   |   |   |   |   |--- class: 0\n",
      "|   |   |   |   |   |   |   |   |   |--- feature_5 >  0.71\n",
      "|   |   |   |   |   |   |   |   |   |   |--- class: 0\n",
      "|   |   |   |   |   |   |   |   |--- feature_34 >  0.50\n",
      "|   |   |   |   |   |   |   |   |   |--- feature_1 <= 0.22\n",
      "|   |   |   |   |   |   |   |   |   |   |--- feature_5 <= 0.47\n",
      "|   |   |   |   |   |   |   |   |   |   |   |--- class: 0\n",
      "|   |   |   |   |   |   |   |   |   |   |--- feature_5 >  0.47\n",
      "|   |   |   |   |   |   |   |   |   |   |   |--- class: 0\n",
      "|   |   |   |   |   |   |   |   |   |--- feature_1 >  0.22\n",
      "|   |   |   |   |   |   |   |   |   |   |--- class: 1\n",
      "|   |   |   |   |   |   |   |--- feature_0 >  0.10\n",
      "|   |   |   |   |   |   |   |   |--- feature_2 <= 0.57\n",
      "|   |   |   |   |   |   |   |   |   |--- feature_30 <= 0.50\n",
      "|   |   |   |   |   |   |   |   |   |   |--- feature_5 <= 0.77\n",
      "|   |   |   |   |   |   |   |   |   |   |   |--- class: 0\n",
      "|   |   |   |   |   |   |   |   |   |   |--- feature_5 >  0.77\n",
      "|   |   |   |   |   |   |   |   |   |   |   |--- class: 0\n",
      "|   |   |   |   |   |   |   |   |   |--- feature_30 >  0.50\n",
      "|   |   |   |   |   |   |   |   |   |   |--- class: 0\n",
      "|   |   |   |   |   |   |   |   |--- feature_2 >  0.57\n",
      "|   |   |   |   |   |   |   |   |   |--- feature_1 <= 0.19\n",
      "|   |   |   |   |   |   |   |   |   |   |--- feature_27 <= 0.50\n",
      "|   |   |   |   |   |   |   |   |   |   |   |--- class: 0\n",
      "|   |   |   |   |   |   |   |   |   |   |--- feature_27 >  0.50\n",
      "|   |   |   |   |   |   |   |   |   |   |   |--- class: 0\n",
      "|   |   |   |   |   |   |   |   |   |--- feature_1 >  0.19\n",
      "|   |   |   |   |   |   |   |   |   |   |--- feature_7 <= 0.50\n",
      "|   |   |   |   |   |   |   |   |   |   |   |--- class: 0\n",
      "|   |   |   |   |   |   |   |   |   |   |--- feature_7 >  0.50\n",
      "|   |   |   |   |   |   |   |   |   |   |   |--- class: 1\n",
      "|   |   |   |   |   |   |--- feature_0 >  0.17\n",
      "|   |   |   |   |   |   |   |--- feature_2 <= 0.57\n",
      "|   |   |   |   |   |   |   |   |--- feature_5 <= 0.53\n",
      "|   |   |   |   |   |   |   |   |   |--- feature_45 <= 0.50\n",
      "|   |   |   |   |   |   |   |   |   |   |--- feature_1 <= 0.06\n",
      "|   |   |   |   |   |   |   |   |   |   |   |--- class: 0\n",
      "|   |   |   |   |   |   |   |   |   |   |--- feature_1 >  0.06\n",
      "|   |   |   |   |   |   |   |   |   |   |   |--- class: 0\n",
      "|   |   |   |   |   |   |   |   |   |--- feature_45 >  0.50\n",
      "|   |   |   |   |   |   |   |   |   |   |--- feature_40 <= 0.50\n",
      "|   |   |   |   |   |   |   |   |   |   |   |--- class: 0\n",
      "|   |   |   |   |   |   |   |   |   |   |--- feature_40 >  0.50\n",
      "|   |   |   |   |   |   |   |   |   |   |   |--- class: 0\n",
      "|   |   |   |   |   |   |   |   |--- feature_5 >  0.53\n",
      "|   |   |   |   |   |   |   |   |   |--- feature_86 <= 0.50\n",
      "|   |   |   |   |   |   |   |   |   |   |--- class: 1\n",
      "|   |   |   |   |   |   |   |   |   |--- feature_86 >  0.50\n",
      "|   |   |   |   |   |   |   |   |   |   |--- feature_11 <= 0.50\n",
      "|   |   |   |   |   |   |   |   |   |   |   |--- class: 0\n",
      "|   |   |   |   |   |   |   |   |   |   |--- feature_11 >  0.50\n",
      "|   |   |   |   |   |   |   |   |   |   |   |--- class: 0\n",
      "|   |   |   |   |   |   |   |--- feature_2 >  0.57\n",
      "|   |   |   |   |   |   |   |   |--- feature_1 <= 0.10\n",
      "|   |   |   |   |   |   |   |   |   |--- feature_1 <= 0.01\n",
      "|   |   |   |   |   |   |   |   |   |   |--- class: 1\n",
      "|   |   |   |   |   |   |   |   |   |--- feature_1 >  0.01\n",
      "|   |   |   |   |   |   |   |   |   |   |--- feature_1 <= 0.05\n",
      "|   |   |   |   |   |   |   |   |   |   |   |--- class: 0\n",
      "|   |   |   |   |   |   |   |   |   |   |--- feature_1 >  0.05\n",
      "|   |   |   |   |   |   |   |   |   |   |   |--- class: 0\n",
      "|   |   |   |   |   |   |   |   |--- feature_1 >  0.10\n",
      "|   |   |   |   |   |   |   |   |   |--- feature_24 <= 0.50\n",
      "|   |   |   |   |   |   |   |   |   |   |--- feature_30 <= 0.50\n",
      "|   |   |   |   |   |   |   |   |   |   |   |--- class: 0\n",
      "|   |   |   |   |   |   |   |   |   |   |--- feature_30 >  0.50\n",
      "|   |   |   |   |   |   |   |   |   |   |   |--- class: 1\n",
      "|   |   |   |   |   |   |   |   |   |--- feature_24 >  0.50\n",
      "|   |   |   |   |   |   |   |   |   |   |--- feature_5 <= 0.59\n",
      "|   |   |   |   |   |   |   |   |   |   |   |--- class: 0\n",
      "|   |   |   |   |   |   |   |   |   |   |--- feature_5 >  0.59\n",
      "|   |   |   |   |   |   |   |   |   |   |   |--- class: 1\n",
      "|   |   |   |   |   |--- feature_0 >  0.25\n",
      "|   |   |   |   |   |   |--- feature_5 <= 0.34\n",
      "|   |   |   |   |   |   |   |--- feature_40 <= 0.50\n",
      "|   |   |   |   |   |   |   |   |--- feature_2 <= 0.57\n",
      "|   |   |   |   |   |   |   |   |   |--- feature_33 <= 0.50\n",
      "|   |   |   |   |   |   |   |   |   |   |--- feature_10 <= 0.50\n",
      "|   |   |   |   |   |   |   |   |   |   |   |--- class: 0\n",
      "|   |   |   |   |   |   |   |   |   |   |--- feature_10 >  0.50\n",
      "|   |   |   |   |   |   |   |   |   |   |   |--- class: 0\n",
      "|   |   |   |   |   |   |   |   |   |--- feature_33 >  0.50\n",
      "|   |   |   |   |   |   |   |   |   |   |--- class: 0\n",
      "|   |   |   |   |   |   |   |   |--- feature_2 >  0.57\n",
      "|   |   |   |   |   |   |   |   |   |--- feature_0 <= 0.72\n",
      "|   |   |   |   |   |   |   |   |   |   |--- feature_33 <= 0.50\n",
      "|   |   |   |   |   |   |   |   |   |   |   |--- class: 0\n",
      "|   |   |   |   |   |   |   |   |   |   |--- feature_33 >  0.50\n",
      "|   |   |   |   |   |   |   |   |   |   |   |--- class: 0\n",
      "|   |   |   |   |   |   |   |   |   |--- feature_0 >  0.72\n",
      "|   |   |   |   |   |   |   |   |   |   |--- feature_1 <= 0.06\n",
      "|   |   |   |   |   |   |   |   |   |   |   |--- class: 1\n",
      "|   |   |   |   |   |   |   |   |   |   |--- feature_1 >  0.06\n",
      "|   |   |   |   |   |   |   |   |   |   |   |--- class: 0\n",
      "|   |   |   |   |   |   |   |--- feature_40 >  0.50\n",
      "|   |   |   |   |   |   |   |   |--- feature_24 <= 0.50\n",
      "|   |   |   |   |   |   |   |   |   |--- feature_2 <= 0.63\n",
      "|   |   |   |   |   |   |   |   |   |   |--- feature_0 <= 0.43\n",
      "|   |   |   |   |   |   |   |   |   |   |   |--- class: 0\n",
      "|   |   |   |   |   |   |   |   |   |   |--- feature_0 >  0.43\n",
      "|   |   |   |   |   |   |   |   |   |   |   |--- class: 0\n",
      "|   |   |   |   |   |   |   |   |   |--- feature_2 >  0.63\n",
      "|   |   |   |   |   |   |   |   |   |   |--- feature_1 <= 0.04\n",
      "|   |   |   |   |   |   |   |   |   |   |   |--- class: 0\n",
      "|   |   |   |   |   |   |   |   |   |   |--- feature_1 >  0.04\n",
      "|   |   |   |   |   |   |   |   |   |   |   |--- class: 1\n",
      "|   |   |   |   |   |   |   |   |--- feature_24 >  0.50\n",
      "|   |   |   |   |   |   |   |   |   |--- feature_5 <= 0.31\n",
      "|   |   |   |   |   |   |   |   |   |   |--- feature_5 <= 0.08\n",
      "|   |   |   |   |   |   |   |   |   |   |   |--- class: 0\n",
      "|   |   |   |   |   |   |   |   |   |   |--- feature_5 >  0.08\n",
      "|   |   |   |   |   |   |   |   |   |   |   |--- class: 1\n",
      "|   |   |   |   |   |   |   |   |   |--- feature_5 >  0.31\n",
      "|   |   |   |   |   |   |   |   |   |   |--- class: 0\n",
      "|   |   |   |   |   |   |--- feature_5 >  0.34\n",
      "|   |   |   |   |   |   |   |--- feature_2 <= 0.57\n",
      "|   |   |   |   |   |   |   |   |--- feature_6 <= 0.50\n",
      "|   |   |   |   |   |   |   |   |   |--- feature_24 <= 0.50\n",
      "|   |   |   |   |   |   |   |   |   |   |--- feature_5 <= 0.41\n",
      "|   |   |   |   |   |   |   |   |   |   |   |--- class: 0\n",
      "|   |   |   |   |   |   |   |   |   |   |--- feature_5 >  0.41\n",
      "|   |   |   |   |   |   |   |   |   |   |   |--- class: 0\n",
      "|   |   |   |   |   |   |   |   |   |--- feature_24 >  0.50\n",
      "|   |   |   |   |   |   |   |   |   |   |--- feature_11 <= 0.50\n",
      "|   |   |   |   |   |   |   |   |   |   |   |--- class: 1\n",
      "|   |   |   |   |   |   |   |   |   |   |--- feature_11 >  0.50\n",
      "|   |   |   |   |   |   |   |   |   |   |   |--- class: 0\n",
      "|   |   |   |   |   |   |   |   |--- feature_6 >  0.50\n",
      "|   |   |   |   |   |   |   |   |   |--- feature_1 <= 0.26\n",
      "|   |   |   |   |   |   |   |   |   |   |--- feature_0 <= 0.27\n",
      "|   |   |   |   |   |   |   |   |   |   |   |--- class: 0\n",
      "|   |   |   |   |   |   |   |   |   |   |--- feature_0 >  0.27\n",
      "|   |   |   |   |   |   |   |   |   |   |   |--- class: 1\n",
      "|   |   |   |   |   |   |   |   |   |--- feature_1 >  0.26\n",
      "|   |   |   |   |   |   |   |   |   |   |--- class: 0\n",
      "|   |   |   |   |   |   |   |--- feature_2 >  0.57\n",
      "|   |   |   |   |   |   |   |   |--- feature_11 <= 0.50\n",
      "|   |   |   |   |   |   |   |   |   |--- feature_24 <= 0.50\n",
      "|   |   |   |   |   |   |   |   |   |   |--- feature_26 <= 0.50\n",
      "|   |   |   |   |   |   |   |   |   |   |   |--- class: 0\n",
      "|   |   |   |   |   |   |   |   |   |   |--- feature_26 >  0.50\n",
      "|   |   |   |   |   |   |   |   |   |   |   |--- class: 0\n",
      "|   |   |   |   |   |   |   |   |   |--- feature_24 >  0.50\n",
      "|   |   |   |   |   |   |   |   |   |   |--- feature_4 <= 0.35\n",
      "|   |   |   |   |   |   |   |   |   |   |   |--- class: 1\n",
      "|   |   |   |   |   |   |   |   |   |   |--- feature_4 >  0.35\n",
      "|   |   |   |   |   |   |   |   |   |   |   |--- class: 0\n",
      "|   |   |   |   |   |   |   |   |--- feature_11 >  0.50\n",
      "|   |   |   |   |   |   |   |   |   |--- feature_1 <= 0.23\n",
      "|   |   |   |   |   |   |   |   |   |   |--- feature_27 <= 0.50\n",
      "|   |   |   |   |   |   |   |   |   |   |   |--- class: 0\n",
      "|   |   |   |   |   |   |   |   |   |   |--- feature_27 >  0.50\n",
      "|   |   |   |   |   |   |   |   |   |   |   |--- class: 1\n",
      "|   |   |   |   |   |   |   |   |   |--- feature_1 >  0.23\n",
      "|   |   |   |   |   |   |   |   |   |   |--- class: 1\n",
      "|   |   |   |   |--- feature_4 >  0.41\n",
      "|   |   |   |   |   |--- feature_4 <= 0.46\n",
      "|   |   |   |   |   |   |--- feature_0 <= 0.10\n",
      "|   |   |   |   |   |   |   |--- class: 0\n",
      "|   |   |   |   |   |   |--- feature_0 >  0.10\n",
      "|   |   |   |   |   |   |   |--- feature_0 <= 0.66\n",
      "|   |   |   |   |   |   |   |   |--- feature_4 <= 0.43\n",
      "|   |   |   |   |   |   |   |   |   |--- class: 1\n",
      "|   |   |   |   |   |   |   |   |--- feature_4 >  0.43\n",
      "|   |   |   |   |   |   |   |   |   |--- feature_0 <= 0.14\n",
      "|   |   |   |   |   |   |   |   |   |   |--- class: 0\n",
      "|   |   |   |   |   |   |   |   |   |--- feature_0 >  0.14\n",
      "|   |   |   |   |   |   |   |   |   |   |--- feature_12 <= 0.50\n",
      "|   |   |   |   |   |   |   |   |   |   |   |--- class: 1\n",
      "|   |   |   |   |   |   |   |   |   |   |--- feature_12 >  0.50\n",
      "|   |   |   |   |   |   |   |   |   |   |   |--- class: 0\n",
      "|   |   |   |   |   |   |   |--- feature_0 >  0.66\n",
      "|   |   |   |   |   |   |   |   |--- class: 1\n",
      "|   |   |   |   |   |--- feature_4 >  0.46\n",
      "|   |   |   |   |   |   |--- feature_4 <= 0.50\n",
      "|   |   |   |   |   |   |   |--- class: 0\n",
      "|   |   |   |   |   |   |--- feature_4 >  0.50\n",
      "|   |   |   |   |   |   |   |--- feature_0 <= 0.28\n",
      "|   |   |   |   |   |   |   |   |--- class: 0\n",
      "|   |   |   |   |   |   |   |--- feature_0 >  0.28\n",
      "|   |   |   |   |   |   |   |   |--- feature_4 <= 0.56\n",
      "|   |   |   |   |   |   |   |   |   |--- feature_4 <= 0.55\n",
      "|   |   |   |   |   |   |   |   |   |   |--- feature_0 <= 0.63\n",
      "|   |   |   |   |   |   |   |   |   |   |   |--- class: 0\n",
      "|   |   |   |   |   |   |   |   |   |   |--- feature_0 >  0.63\n",
      "|   |   |   |   |   |   |   |   |   |   |   |--- class: 1\n",
      "|   |   |   |   |   |   |   |   |   |--- feature_4 >  0.55\n",
      "|   |   |   |   |   |   |   |   |   |   |--- class: 1\n",
      "|   |   |   |   |   |   |   |   |--- feature_4 >  0.56\n",
      "|   |   |   |   |   |   |   |   |   |--- class: 0\n",
      "|   |   |--- feature_3 >  0.05\n",
      "|   |   |   |--- feature_0 <= 0.60\n",
      "|   |   |   |   |--- feature_37 <= 0.50\n",
      "|   |   |   |   |   |--- class: 1\n",
      "|   |   |   |   |--- feature_37 >  0.50\n",
      "|   |   |   |   |   |--- class: 0\n",
      "|   |   |   |--- feature_0 >  0.60\n",
      "|   |   |   |   |--- feature_28 <= 0.50\n",
      "|   |   |   |   |   |--- feature_1 <= 0.07\n",
      "|   |   |   |   |   |   |--- feature_1 <= 0.06\n",
      "|   |   |   |   |   |   |   |--- feature_25 <= 0.50\n",
      "|   |   |   |   |   |   |   |   |--- class: 1\n",
      "|   |   |   |   |   |   |   |--- feature_25 >  0.50\n",
      "|   |   |   |   |   |   |   |   |--- class: 1\n",
      "|   |   |   |   |   |   |--- feature_1 >  0.06\n",
      "|   |   |   |   |   |   |   |--- class: 0\n",
      "|   |   |   |   |   |--- feature_1 >  0.07\n",
      "|   |   |   |   |   |   |--- feature_1 <= 0.16\n",
      "|   |   |   |   |   |   |   |--- class: 1\n",
      "|   |   |   |   |   |   |--- feature_1 >  0.16\n",
      "|   |   |   |   |   |   |   |--- class: 1\n",
      "|   |   |   |   |--- feature_28 >  0.50\n",
      "|   |   |   |   |   |--- class: 0\n",
      "|   |--- feature_2 >  0.77\n",
      "|   |   |--- feature_3 <= 0.05\n",
      "|   |   |   |--- feature_4 <= 0.41\n",
      "|   |   |   |   |--- feature_5 <= 0.31\n",
      "|   |   |   |   |   |--- feature_40 <= 0.50\n",
      "|   |   |   |   |   |   |--- feature_2 <= 0.90\n",
      "|   |   |   |   |   |   |   |--- feature_0 <= 0.21\n",
      "|   |   |   |   |   |   |   |   |--- feature_28 <= 0.50\n",
      "|   |   |   |   |   |   |   |   |   |--- class: 0\n",
      "|   |   |   |   |   |   |   |   |--- feature_28 >  0.50\n",
      "|   |   |   |   |   |   |   |   |   |--- class: 0\n",
      "|   |   |   |   |   |   |   |--- feature_0 >  0.21\n",
      "|   |   |   |   |   |   |   |   |--- feature_33 <= 0.50\n",
      "|   |   |   |   |   |   |   |   |   |--- feature_1 <= 0.38\n",
      "|   |   |   |   |   |   |   |   |   |   |--- feature_0 <= 0.69\n",
      "|   |   |   |   |   |   |   |   |   |   |   |--- class: 0\n",
      "|   |   |   |   |   |   |   |   |   |   |--- feature_0 >  0.69\n",
      "|   |   |   |   |   |   |   |   |   |   |   |--- class: 0\n",
      "|   |   |   |   |   |   |   |   |   |--- feature_1 >  0.38\n",
      "|   |   |   |   |   |   |   |   |   |   |--- class: 1\n",
      "|   |   |   |   |   |   |   |   |--- feature_33 >  0.50\n",
      "|   |   |   |   |   |   |   |   |   |--- class: 1\n",
      "|   |   |   |   |   |   |--- feature_2 >  0.90\n",
      "|   |   |   |   |   |   |   |--- feature_5 <= 0.23\n",
      "|   |   |   |   |   |   |   |   |--- feature_1 <= 0.08\n",
      "|   |   |   |   |   |   |   |   |   |--- class: 1\n",
      "|   |   |   |   |   |   |   |   |--- feature_1 >  0.08\n",
      "|   |   |   |   |   |   |   |   |   |--- feature_30 <= 0.50\n",
      "|   |   |   |   |   |   |   |   |   |   |--- class: 0\n",
      "|   |   |   |   |   |   |   |   |   |--- feature_30 >  0.50\n",
      "|   |   |   |   |   |   |   |   |   |   |--- class: 0\n",
      "|   |   |   |   |   |   |   |--- feature_5 >  0.23\n",
      "|   |   |   |   |   |   |   |   |--- feature_0 <= 0.57\n",
      "|   |   |   |   |   |   |   |   |   |--- class: 1\n",
      "|   |   |   |   |   |   |   |   |--- feature_0 >  0.57\n",
      "|   |   |   |   |   |   |   |   |   |--- class: 0\n",
      "|   |   |   |   |   |--- feature_40 >  0.50\n",
      "|   |   |   |   |   |   |--- feature_1 <= 0.24\n",
      "|   |   |   |   |   |   |   |--- feature_1 <= 0.06\n",
      "|   |   |   |   |   |   |   |   |--- feature_1 <= 0.06\n",
      "|   |   |   |   |   |   |   |   |   |--- class: 1\n",
      "|   |   |   |   |   |   |   |   |--- feature_1 >  0.06\n",
      "|   |   |   |   |   |   |   |   |   |--- class: 0\n",
      "|   |   |   |   |   |   |   |--- feature_1 >  0.06\n",
      "|   |   |   |   |   |   |   |   |--- feature_28 <= 0.50\n",
      "|   |   |   |   |   |   |   |   |   |--- feature_1 <= 0.18\n",
      "|   |   |   |   |   |   |   |   |   |   |--- feature_1 <= 0.13\n",
      "|   |   |   |   |   |   |   |   |   |   |   |--- class: 1\n",
      "|   |   |   |   |   |   |   |   |   |   |--- feature_1 >  0.13\n",
      "|   |   |   |   |   |   |   |   |   |   |   |--- class: 1\n",
      "|   |   |   |   |   |   |   |   |   |--- feature_1 >  0.18\n",
      "|   |   |   |   |   |   |   |   |   |   |--- class: 0\n",
      "|   |   |   |   |   |   |   |   |--- feature_28 >  0.50\n",
      "|   |   |   |   |   |   |   |   |   |--- class: 0\n",
      "|   |   |   |   |   |   |--- feature_1 >  0.24\n",
      "|   |   |   |   |   |   |   |--- class: 0\n",
      "|   |   |   |   |--- feature_5 >  0.31\n",
      "|   |   |   |   |   |--- feature_0 <= 0.16\n",
      "|   |   |   |   |   |   |--- feature_0 <= 0.12\n",
      "|   |   |   |   |   |   |   |--- feature_1 <= 0.26\n",
      "|   |   |   |   |   |   |   |   |--- feature_5 <= 0.43\n",
      "|   |   |   |   |   |   |   |   |   |--- feature_9 <= 0.50\n",
      "|   |   |   |   |   |   |   |   |   |   |--- class: 0\n",
      "|   |   |   |   |   |   |   |   |   |--- feature_9 >  0.50\n",
      "|   |   |   |   |   |   |   |   |   |   |--- feature_1 <= 0.10\n",
      "|   |   |   |   |   |   |   |   |   |   |   |--- class: 0\n",
      "|   |   |   |   |   |   |   |   |   |   |--- feature_1 >  0.10\n",
      "|   |   |   |   |   |   |   |   |   |   |   |--- class: 0\n",
      "|   |   |   |   |   |   |   |   |--- feature_5 >  0.43\n",
      "|   |   |   |   |   |   |   |   |   |--- feature_1 <= 0.20\n",
      "|   |   |   |   |   |   |   |   |   |   |--- feature_24 <= 0.50\n",
      "|   |   |   |   |   |   |   |   |   |   |   |--- class: 0\n",
      "|   |   |   |   |   |   |   |   |   |   |--- feature_24 >  0.50\n",
      "|   |   |   |   |   |   |   |   |   |   |   |--- class: 1\n",
      "|   |   |   |   |   |   |   |   |   |--- feature_1 >  0.20\n",
      "|   |   |   |   |   |   |   |   |   |   |--- class: 1\n",
      "|   |   |   |   |   |   |   |--- feature_1 >  0.26\n",
      "|   |   |   |   |   |   |   |   |--- class: 1\n",
      "|   |   |   |   |   |   |--- feature_0 >  0.12\n",
      "|   |   |   |   |   |   |   |--- feature_47 <= 0.50\n",
      "|   |   |   |   |   |   |   |   |--- feature_1 <= 0.12\n",
      "|   |   |   |   |   |   |   |   |   |--- class: 1\n",
      "|   |   |   |   |   |   |   |   |--- feature_1 >  0.12\n",
      "|   |   |   |   |   |   |   |   |   |--- feature_1 <= 0.14\n",
      "|   |   |   |   |   |   |   |   |   |   |--- class: 0\n",
      "|   |   |   |   |   |   |   |   |   |--- feature_1 >  0.14\n",
      "|   |   |   |   |   |   |   |   |   |   |--- class: 1\n",
      "|   |   |   |   |   |   |   |--- feature_47 >  0.50\n",
      "|   |   |   |   |   |   |   |   |--- feature_32 <= 0.50\n",
      "|   |   |   |   |   |   |   |   |   |--- feature_1 <= 0.03\n",
      "|   |   |   |   |   |   |   |   |   |   |--- class: 0\n",
      "|   |   |   |   |   |   |   |   |   |--- feature_1 >  0.03\n",
      "|   |   |   |   |   |   |   |   |   |   |--- feature_1 <= 0.15\n",
      "|   |   |   |   |   |   |   |   |   |   |   |--- class: 0\n",
      "|   |   |   |   |   |   |   |   |   |   |--- feature_1 >  0.15\n",
      "|   |   |   |   |   |   |   |   |   |   |   |--- class: 0\n",
      "|   |   |   |   |   |   |   |   |--- feature_32 >  0.50\n",
      "|   |   |   |   |   |   |   |   |   |--- feature_1 <= 0.17\n",
      "|   |   |   |   |   |   |   |   |   |   |--- feature_1 <= 0.11\n",
      "|   |   |   |   |   |   |   |   |   |   |   |--- class: 1\n",
      "|   |   |   |   |   |   |   |   |   |   |--- feature_1 >  0.11\n",
      "|   |   |   |   |   |   |   |   |   |   |   |--- class: 1\n",
      "|   |   |   |   |   |   |   |   |   |--- feature_1 >  0.17\n",
      "|   |   |   |   |   |   |   |   |   |   |--- class: 0\n",
      "|   |   |   |   |   |--- feature_0 >  0.16\n",
      "|   |   |   |   |   |   |--- feature_3 <= 0.03\n",
      "|   |   |   |   |   |   |   |--- feature_24 <= 0.50\n",
      "|   |   |   |   |   |   |   |   |--- feature_30 <= 0.50\n",
      "|   |   |   |   |   |   |   |   |   |--- feature_32 <= 0.50\n",
      "|   |   |   |   |   |   |   |   |   |   |--- feature_33 <= 0.50\n",
      "|   |   |   |   |   |   |   |   |   |   |   |--- class: 0\n",
      "|   |   |   |   |   |   |   |   |   |   |--- feature_33 >  0.50\n",
      "|   |   |   |   |   |   |   |   |   |   |   |--- class: 1\n",
      "|   |   |   |   |   |   |   |   |   |--- feature_32 >  0.50\n",
      "|   |   |   |   |   |   |   |   |   |   |--- feature_86 <= 0.50\n",
      "|   |   |   |   |   |   |   |   |   |   |   |--- class: 0\n",
      "|   |   |   |   |   |   |   |   |   |   |--- feature_86 >  0.50\n",
      "|   |   |   |   |   |   |   |   |   |   |   |--- class: 1\n",
      "|   |   |   |   |   |   |   |   |--- feature_30 >  0.50\n",
      "|   |   |   |   |   |   |   |   |   |--- feature_2 <= 0.90\n",
      "|   |   |   |   |   |   |   |   |   |   |--- feature_0 <= 0.27\n",
      "|   |   |   |   |   |   |   |   |   |   |   |--- class: 1\n",
      "|   |   |   |   |   |   |   |   |   |   |--- feature_0 >  0.27\n",
      "|   |   |   |   |   |   |   |   |   |   |   |--- class: 1\n",
      "|   |   |   |   |   |   |   |   |   |--- feature_2 >  0.90\n",
      "|   |   |   |   |   |   |   |   |   |   |--- feature_4 <= 0.36\n",
      "|   |   |   |   |   |   |   |   |   |   |   |--- class: 1\n",
      "|   |   |   |   |   |   |   |   |   |   |--- feature_4 >  0.36\n",
      "|   |   |   |   |   |   |   |   |   |   |   |--- class: 0\n",
      "|   |   |   |   |   |   |   |--- feature_24 >  0.50\n",
      "|   |   |   |   |   |   |   |   |--- feature_4 <= 0.14\n",
      "|   |   |   |   |   |   |   |   |   |--- feature_11 <= 0.50\n",
      "|   |   |   |   |   |   |   |   |   |   |--- feature_5 <= 0.41\n",
      "|   |   |   |   |   |   |   |   |   |   |   |--- class: 1\n",
      "|   |   |   |   |   |   |   |   |   |   |--- feature_5 >  0.41\n",
      "|   |   |   |   |   |   |   |   |   |   |   |--- class: 1\n",
      "|   |   |   |   |   |   |   |   |   |--- feature_11 >  0.50\n",
      "|   |   |   |   |   |   |   |   |   |   |--- feature_0 <= 0.58\n",
      "|   |   |   |   |   |   |   |   |   |   |   |--- class: 1\n",
      "|   |   |   |   |   |   |   |   |   |   |--- feature_0 >  0.58\n",
      "|   |   |   |   |   |   |   |   |   |   |   |--- class: 0\n",
      "|   |   |   |   |   |   |   |   |--- feature_4 >  0.14\n",
      "|   |   |   |   |   |   |   |   |   |--- class: 0\n",
      "|   |   |   |   |   |   |--- feature_3 >  0.03\n",
      "|   |   |   |   |   |   |   |--- feature_3 <= 0.04\n",
      "|   |   |   |   |   |   |   |   |--- class: 0\n",
      "|   |   |   |   |   |   |   |--- feature_3 >  0.04\n",
      "|   |   |   |   |   |   |   |   |--- feature_3 <= 0.04\n",
      "|   |   |   |   |   |   |   |   |   |--- class: 1\n",
      "|   |   |   |   |   |   |   |   |--- feature_3 >  0.04\n",
      "|   |   |   |   |   |   |   |   |   |--- class: 0\n",
      "|   |   |   |--- feature_4 >  0.41\n",
      "|   |   |   |   |--- feature_4 <= 0.46\n",
      "|   |   |   |   |   |--- feature_6 <= 0.50\n",
      "|   |   |   |   |   |   |--- feature_0 <= 0.16\n",
      "|   |   |   |   |   |   |   |--- class: 1\n",
      "|   |   |   |   |   |   |--- feature_0 >  0.16\n",
      "|   |   |   |   |   |   |   |--- class: 1\n",
      "|   |   |   |   |   |--- feature_6 >  0.50\n",
      "|   |   |   |   |   |   |--- class: 1\n",
      "|   |   |   |   |--- feature_4 >  0.46\n",
      "|   |   |   |   |   |--- feature_4 <= 0.50\n",
      "|   |   |   |   |   |   |--- class: 0\n",
      "|   |   |   |   |   |--- feature_4 >  0.50\n",
      "|   |   |   |   |   |   |--- feature_7 <= 0.50\n",
      "|   |   |   |   |   |   |   |--- class: 1\n",
      "|   |   |   |   |   |   |--- feature_7 >  0.50\n",
      "|   |   |   |   |   |   |   |--- class: 0\n",
      "|   |   |--- feature_3 >  0.05\n",
      "|   |   |   |--- feature_0 <= 0.93\n",
      "|   |   |   |   |--- feature_25 <= 0.50\n",
      "|   |   |   |   |   |--- feature_5 <= 0.21\n",
      "|   |   |   |   |   |   |--- feature_3 <= 0.07\n",
      "|   |   |   |   |   |   |   |--- class: 1\n",
      "|   |   |   |   |   |   |--- feature_3 >  0.07\n",
      "|   |   |   |   |   |   |   |--- class: 1\n",
      "|   |   |   |   |   |--- feature_5 >  0.21\n",
      "|   |   |   |   |   |   |--- class: 1\n",
      "|   |   |   |   |--- feature_25 >  0.50\n",
      "|   |   |   |   |   |--- class: 1\n",
      "|   |   |   |--- feature_0 >  0.93\n",
      "|   |   |   |   |--- class: 1\n",
      "\n"
     ]
    }
   ],
   "source": [
    "text_representation1 = tree.export_text(arvore)\n",
    "print(text_representation1)"
   ]
  },
  {
   "cell_type": "code",
   "execution_count": 80,
   "metadata": {},
   "outputs": [
    {
     "data": {
      "text/plain": [
       "[('marital-status_ Married-civ-spouse', 0.3785099316117779),\n",
       " ('education-num', 0.20668795598404935),\n",
       " ('capital-gain', 0.18727305928692506),\n",
       " ('capital-loss', 0.06672069602180655),\n",
       " ('age', 0.050250260466823404),\n",
       " ('hours-per-week', 0.03681851971201478),\n",
       " ('fnlwgt', 0.018799330063259657),\n",
       " ('occupation_ Exec-managerial', 0.010762635215258061),\n",
       " ('workclass_ Self-emp-not-inc', 0.006610992416984265),\n",
       " ('occupation_ Prof-specialty', 0.0063111933384847226),\n",
       " ('relationship_ Wife', 0.005016743173575042),\n",
       " ('occupation_ Tech-support', 0.002886975576417277),\n",
       " ('workclass_ Federal-gov', 0.0023585378342992763),\n",
       " ('occupation_ Sales', 0.0023563949505325424),\n",
       " ('sex_ Female', 0.002045077926064484),\n",
       " ('sex_ Male', 0.0019564924199028787),\n",
       " ('native-country_ United-States', 0.0017157261799566094),\n",
       " ('occupation_ Handlers-cleaners', 0.0012749359518558767),\n",
       " ('marital-status_ Divorced', 0.0012440171774347314),\n",
       " ('occupation_ Machine-op-inspct', 0.001070644093003851),\n",
       " ('workclass_ Local-gov', 0.0009808521084960047),\n",
       " ('occupation_ Other-service', 0.0009559449687848461),\n",
       " ('workclass_ Private', 0.0009246004323423889),\n",
       " ('workclass_ State-gov', 0.0008844376763472823),\n",
       " ('marital-status_ Never-married', 0.0007964047276121892),\n",
       " ('race_ White', 0.0006858647200699488),\n",
       " ('workclass_ Self-emp-inc', 0.0006643663229557298),\n",
       " ('occupation_ Transport-moving', 0.0005858416714138039),\n",
       " ('relationship_ Not-in-family', 0.00044823786818944746),\n",
       " ('marital-status_ Separated', 0.00041393696010728285),\n",
       " ('race_ Asian-Pac-Islander', 0.00039492701969351645),\n",
       " ('occupation_ Protective-serv', 0.00024799523938970114),\n",
       " ('occupation_ Craft-repair', 0.00023530035037743318),\n",
       " ('occupation_ Farming-fishing', 0.00017682531676418094),\n",
       " ('relationship_ Other-relative', 0.00016019967289155365),\n",
       " ('relationship_ Husband', 0.00015864240711695253),\n",
       " ('native-country_ Portugal', 0.0001554787435366505),\n",
       " ('native-country_ India', 0.00014901908610352922),\n",
       " ('native-country_ Germany', 0.0001476732460516517),\n",
       " ('native-country_ Laos', 0.0001462254691295745),\n",
       " ('native-country_ Guatemala', 1.7106592200020398e-05),\n",
       " ('workclass_ Never-worked', 0.0),\n",
       " ('workclass_ Without-pay', 0.0),\n",
       " ('marital-status_ Married-AF-spouse', 0.0),\n",
       " ('marital-status_ Married-spouse-absent', 0.0),\n",
       " ('marital-status_ Widowed', 0.0),\n",
       " ('occupation_ Adm-clerical', 0.0),\n",
       " ('occupation_ Armed-Forces', 0.0),\n",
       " ('occupation_ Priv-house-serv', 0.0),\n",
       " ('relationship_ Own-child', 0.0),\n",
       " ('relationship_ Unmarried', 0.0),\n",
       " ('race_ Amer-Indian-Eskimo', 0.0),\n",
       " ('race_ Black', 0.0),\n",
       " ('race_ Other', 0.0),\n",
       " ('native-country_ Cambodia', 0.0),\n",
       " ('native-country_ Canada', 0.0),\n",
       " ('native-country_ China', 0.0),\n",
       " ('native-country_ Columbia', 0.0),\n",
       " ('native-country_ Cuba', 0.0),\n",
       " ('native-country_ Dominican-Republic', 0.0),\n",
       " ('native-country_ Ecuador', 0.0),\n",
       " ('native-country_ El-Salvador', 0.0),\n",
       " ('native-country_ England', 0.0),\n",
       " ('native-country_ France', 0.0),\n",
       " ('native-country_ Greece', 0.0),\n",
       " ('native-country_ Haiti', 0.0),\n",
       " ('native-country_ Holand-Netherlands', 0.0),\n",
       " ('native-country_ Honduras', 0.0),\n",
       " ('native-country_ Hong', 0.0),\n",
       " ('native-country_ Hungary', 0.0),\n",
       " ('native-country_ Iran', 0.0),\n",
       " ('native-country_ Ireland', 0.0),\n",
       " ('native-country_ Italy', 0.0),\n",
       " ('native-country_ Jamaica', 0.0),\n",
       " ('native-country_ Japan', 0.0),\n",
       " ('native-country_ Mexico', 0.0),\n",
       " ('native-country_ Nicaragua', 0.0),\n",
       " ('native-country_ Outlying-US(Guam-USVI-etc)', 0.0),\n",
       " ('native-country_ Peru', 0.0),\n",
       " ('native-country_ Philippines', 0.0),\n",
       " ('native-country_ Poland', 0.0),\n",
       " ('native-country_ Puerto-Rico', 0.0),\n",
       " ('native-country_ Scotland', 0.0),\n",
       " ('native-country_ South', 0.0),\n",
       " ('native-country_ Taiwan', 0.0),\n",
       " ('native-country_ Thailand', 0.0),\n",
       " ('native-country_ Trinadad&Tobago', 0.0),\n",
       " ('native-country_ Vietnam', 0.0),\n",
       " ('native-country_ Yugoslavia', 0.0)]"
      ]
     },
     "execution_count": 80,
     "metadata": {},
     "output_type": "execute_result"
    }
   ],
   "source": [
    "sorted(zip(feature_names, arvore.feature_importances_), reverse=True,  key=lambda x: x[1])"
   ]
  },
  {
   "cell_type": "code",
   "execution_count": 76,
   "metadata": {},
   "outputs": [
    {
     "data": {
      "image/png": "[encoded data removed]",
      "text/plain": [
       "<Figure size 1800x1440 with 1 Axes>"
      ]
     },
     "metadata": {
      "needs_background": "light"
     },
     "output_type": "display_data"
    }
   ],
   "source": [
    "fig = plt.figure(figsize=(25,20))\n",
    "\n",
    "_ = tree.plot_tree(arvore, \n",
    "                   feature_names = feature_names,\n",
    "                   filled = True,\n",
    "                   max_depth = 5)"
   ]
  },
  {
   "cell_type": "markdown",
   "metadata": {},
   "source": [
    "## Propor sugestões de decisões com base nos atributos"
   ]
  },
  {
   "cell_type": "markdown",
   "metadata": {},
   "source": [
    "1. marital-status_ Married-civ-spouse: 0.3785\n",
    "2. education-num: 0.2067\n",
    "3. capital-gain: 0.1873"
   ]
  },
  {
   "cell_type": "markdown",
   "metadata": {},
   "source": [
    "As análises realizadas demonstraram que pessoas casadas, com maior nível de educação\n",
    "e ganhos em capital apresentaram salários mais atrativos. Diante desses resultados, o governo\n",
    "poderia incluir na pesquisa do Censo mais detalhes sobre a formação da população, de modo a conseguir entender como melhor investir em educação e assim promover melhoria na renda da população. Identificamos também que as outras variáveis são coerentes com o problema, visto que o estado civil pode ser um indicativo de estabilidade financeira e ganhos em capital tem correlação com a renda do indivíduo."
   ]
  },
  {
   "cell_type": "code",
   "execution_count": 81,
   "metadata": {},
   "outputs": [
    {
     "data": {
      "text/plain": [
       " Married-civ-spouse       14970\n",
       " Never-married            10667\n",
       " Divorced                  4441\n",
       " Separated                 1025\n",
       " Widowed                    993\n",
       " Married-spouse-absent      418\n",
       " Married-AF-spouse           23\n",
       "Name: marital-status, dtype: int64"
      ]
     },
     "execution_count": 81,
     "metadata": {},
     "output_type": "execute_result"
    }
   ],
   "source": [
    "df['marital-status'].value_counts()"
   ]
  }
 ],
 "metadata": {
  "interpreter": {
   "hash": "8003219c8c57211ee3be347d121ba14ebad7276cdae3d94be72d9e4e17f9edd5"
  },
  "kernelspec": {
   "display_name": "Python 3 (ipykernel)",
   "language": "python",
   "name": "python3"
  },
  "language_info": {
   "codemirror_mode": {
    "name": "ipython",
    "version": 3
   },
   "file_extension": ".py",
   "mimetype": "text/x-python",
   "name": "python",
   "nbconvert_exporter": "python",
   "pygments_lexer": "ipython3",
   "version": "3.9.7"
  }
 },
 "nbformat": 4,
 "nbformat_minor": 2
}
